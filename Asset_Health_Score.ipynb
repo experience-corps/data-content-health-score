{
 "cells": [
  {
   "cell_type": "markdown",
   "metadata": {},
   "source": [
    "# Hackathon Goal: Asset Health Score\n",
    "Author: Lavinia Wang<br>\n",
    "@Showpad\n",
    "\n",
    "- Segment marketing content by lifetime engagement and recent engagement\n",
    "    * Create recent engagement report for each marketing-created asset from user activity data export\n",
    "    * Compare lifetime engagement to recent engagement of marketing-created assets in Showpad library to \n",
    "    * Create an “asset health score” for each marketing-created asset in Showpad library from all engagement data  \n",
    "    * Visualize the health scores with an Experience App"
   ]
  },
  {
   "cell_type": "code",
   "execution_count": 1,
   "metadata": {},
   "outputs": [],
   "source": [
    "## Import modules\n",
    "import numpy as np\n",
    "import pandas as pd\n",
    "import matplotlib.pyplot as plt\n",
    "import seaborn as sns\n",
    "%matplotlib inline"
   ]
  },
  {
   "cell_type": "code",
   "execution_count": 2,
   "metadata": {},
   "outputs": [],
   "source": [
    "## Load file into pandas\n",
    "## Data starts in row #2\n",
    "mkt_lib = pd.read_csv(\"/Users/liyan.wang/Desktop/Hackathon/Sample Showpad Report Exports/library-marketing-content showpad-export-20190709.csv\", \n",
    "                 header=0)\n",
    "user_act = pd.read_csv(\"/Users/liyan.wang/Desktop/Hackathon/Sample Showpad Report Exports/user-activity export.csv\", \n",
    "                 header=0)\n",
    "top_mkt = pd.read_csv(\"/Users/liyan.wang/Desktop/Hackathon/Sample Showpad Report Exports/top-content-marketing.csv\", \n",
    "                 header=0)"
   ]
  },
  {
   "cell_type": "code",
   "execution_count": 3,
   "metadata": {},
   "outputs": [
    {
     "name": "stdout",
     "output_type": "stream",
     "text": [
      "library marketing content has shape:  (878, 13)\n",
      "user activity has shape:  (4624, 10)\n",
      "top content marketing has shape:  (472, 19)\n"
     ]
    }
   ],
   "source": [
    "print(\"library marketing content has shape: \", mkt_lib.shape)\n",
    "print(\"user activity has shape: \", user_act.shape)\n",
    "print(\"top content marketing has shape: \", top_mkt.shape)"
   ]
  },
  {
   "cell_type": "code",
   "execution_count": 4,
   "metadata": {},
   "outputs": [
    {
     "data": {
      "text/html": [
       "<div>\n",
       "<style scoped>\n",
       "    .dataframe tbody tr th:only-of-type {\n",
       "        vertical-align: middle;\n",
       "    }\n",
       "\n",
       "    .dataframe tbody tr th {\n",
       "        vertical-align: top;\n",
       "    }\n",
       "\n",
       "    .dataframe thead th {\n",
       "        text-align: right;\n",
       "    }\n",
       "</style>\n",
       "<table border=\"1\" class=\"dataframe\">\n",
       "  <thead>\n",
       "    <tr style=\"text-align: right;\">\n",
       "      <th></th>\n",
       "      <th>id</th>\n",
       "      <th>asset name</th>\n",
       "      <th>size</th>\n",
       "      <th>uploaded date</th>\n",
       "      <th>expiry date</th>\n",
       "      <th>tags</th>\n",
       "      <th>used in channels</th>\n",
       "      <th>annotatable</th>\n",
       "      <th>confidential</th>\n",
       "      <th>shareable</th>\n",
       "      <th>(page)views</th>\n",
       "      <th>likes</th>\n",
       "      <th>slug</th>\n",
       "    </tr>\n",
       "  </thead>\n",
       "  <tbody>\n",
       "    <tr>\n",
       "      <th>0</th>\n",
       "      <td>92df4bbb7be2d9f00fbc3d9adc680132</td>\n",
       "      <td>Showpad Overview Video.mp4</td>\n",
       "      <td>1671718.0</td>\n",
       "      <td>2016-06-24 18:52:06</td>\n",
       "      <td>NaN</td>\n",
       "      <td>NaN</td>\n",
       "      <td>Apple Business Spotlight, FabTech 2016, Medica...</td>\n",
       "      <td>0</td>\n",
       "      <td>0</td>\n",
       "      <td>1</td>\n",
       "      <td>6205</td>\n",
       "      <td>2</td>\n",
       "      <td>7c32180f276ee092563de655b365bec9</td>\n",
       "    </tr>\n",
       "    <tr>\n",
       "      <th>1</th>\n",
       "      <td>f715ad04737e6e315d00d0a057f101d4</td>\n",
       "      <td>ROI Calculator Supporting Slides.pdf</td>\n",
       "      <td>900579.0</td>\n",
       "      <td>2015-10-26 20:54:08</td>\n",
       "      <td>NaN</td>\n",
       "      <td>NaN</td>\n",
       "      <td>(deprovisioned) Show &amp; Share, My Channel, Phil...</td>\n",
       "      <td>1</td>\n",
       "      <td>0</td>\n",
       "      <td>1</td>\n",
       "      <td>339</td>\n",
       "      <td>0</td>\n",
       "      <td>9bf071effa6b23a97727faca7adfa727</td>\n",
       "    </tr>\n",
       "    <tr>\n",
       "      <th>2</th>\n",
       "      <td>a2618799d9ddeee1935e466640e640c2</td>\n",
       "      <td>ROI Tool.xlsx</td>\n",
       "      <td>136478.0</td>\n",
       "      <td>2015-10-26 20:54:14</td>\n",
       "      <td>NaN</td>\n",
       "      <td>NaN</td>\n",
       "      <td>(deprovisioned) Show &amp; Share, Hospitality Co.,...</td>\n",
       "      <td>1</td>\n",
       "      <td>0</td>\n",
       "      <td>1</td>\n",
       "      <td>235</td>\n",
       "      <td>0</td>\n",
       "      <td>e510572d9c0bd2bb532b992851d2b33a</td>\n",
       "    </tr>\n",
       "    <tr>\n",
       "      <th>3</th>\n",
       "      <td>3e4d76a178bac836f44c7bf3ff2dfe83</td>\n",
       "      <td>Atlas Copco Testimonial.mov</td>\n",
       "      <td>17157828.0</td>\n",
       "      <td>2015-10-26 21:14:55</td>\n",
       "      <td>NaN</td>\n",
       "      <td>NaN</td>\n",
       "      <td>2018 NA Events Channel, Minds &amp; More 2016, Arg...</td>\n",
       "      <td>0</td>\n",
       "      <td>0</td>\n",
       "      <td>1</td>\n",
       "      <td>1942</td>\n",
       "      <td>0</td>\n",
       "      <td>2e7f974e097735ff24b59f5f336dcd37</td>\n",
       "    </tr>\n",
       "    <tr>\n",
       "      <th>4</th>\n",
       "      <td>14cf833de6732a8d7623ccef57da117a</td>\n",
       "      <td>bioMérieux Testimonial.mov</td>\n",
       "      <td>9453689.0</td>\n",
       "      <td>2016-07-15 18:59:49</td>\n",
       "      <td>NaN</td>\n",
       "      <td>NaN</td>\n",
       "      <td>MarTech EU 2016, 2018 NA Events Channel, Minds...</td>\n",
       "      <td>0</td>\n",
       "      <td>0</td>\n",
       "      <td>1</td>\n",
       "      <td>826</td>\n",
       "      <td>0</td>\n",
       "      <td>6e6c928c0dcaab0da8d6425e80ec20ed</td>\n",
       "    </tr>\n",
       "  </tbody>\n",
       "</table>\n",
       "</div>"
      ],
      "text/plain": [
       "                                 id                            asset name  \\\n",
       "0  92df4bbb7be2d9f00fbc3d9adc680132            Showpad Overview Video.mp4   \n",
       "1  f715ad04737e6e315d00d0a057f101d4  ROI Calculator Supporting Slides.pdf   \n",
       "2  a2618799d9ddeee1935e466640e640c2                         ROI Tool.xlsx   \n",
       "3  3e4d76a178bac836f44c7bf3ff2dfe83           Atlas Copco Testimonial.mov   \n",
       "4  14cf833de6732a8d7623ccef57da117a            bioMérieux Testimonial.mov   \n",
       "\n",
       "         size        uploaded date expiry date tags  \\\n",
       "0   1671718.0  2016-06-24 18:52:06         NaN  NaN   \n",
       "1    900579.0  2015-10-26 20:54:08         NaN  NaN   \n",
       "2    136478.0  2015-10-26 20:54:14         NaN  NaN   \n",
       "3  17157828.0  2015-10-26 21:14:55         NaN  NaN   \n",
       "4   9453689.0  2016-07-15 18:59:49         NaN  NaN   \n",
       "\n",
       "                                    used in channels  annotatable  \\\n",
       "0  Apple Business Spotlight, FabTech 2016, Medica...            0   \n",
       "1  (deprovisioned) Show & Share, My Channel, Phil...            1   \n",
       "2  (deprovisioned) Show & Share, Hospitality Co.,...            1   \n",
       "3  2018 NA Events Channel, Minds & More 2016, Arg...            0   \n",
       "4  MarTech EU 2016, 2018 NA Events Channel, Minds...            0   \n",
       "\n",
       "   confidential  shareable  (page)views  likes  \\\n",
       "0             0          1         6205      2   \n",
       "1             0          1          339      0   \n",
       "2             0          1          235      0   \n",
       "3             0          1         1942      0   \n",
       "4             0          1          826      0   \n",
       "\n",
       "                               slug  \n",
       "0  7c32180f276ee092563de655b365bec9  \n",
       "1  9bf071effa6b23a97727faca7adfa727  \n",
       "2  e510572d9c0bd2bb532b992851d2b33a  \n",
       "3  2e7f974e097735ff24b59f5f336dcd37  \n",
       "4  6e6c928c0dcaab0da8d6425e80ec20ed  "
      ]
     },
     "execution_count": 4,
     "metadata": {},
     "output_type": "execute_result"
    }
   ],
   "source": [
    "mkt_lib.head()"
   ]
  },
  {
   "cell_type": "code",
   "execution_count": 5,
   "metadata": {},
   "outputs": [
    {
     "data": {
      "text/html": [
       "<div>\n",
       "<style scoped>\n",
       "    .dataframe tbody tr th:only-of-type {\n",
       "        vertical-align: middle;\n",
       "    }\n",
       "\n",
       "    .dataframe tbody tr th {\n",
       "        vertical-align: top;\n",
       "    }\n",
       "\n",
       "    .dataframe thead th {\n",
       "        text-align: right;\n",
       "    }\n",
       "</style>\n",
       "<table border=\"1\" class=\"dataframe\">\n",
       "  <thead>\n",
       "    <tr style=\"text-align: right;\">\n",
       "      <th></th>\n",
       "      <th>id</th>\n",
       "      <th>asset name</th>\n",
       "      <th>size</th>\n",
       "      <th>uploaded date</th>\n",
       "      <th>expiry date</th>\n",
       "      <th>tags</th>\n",
       "      <th>used in channels</th>\n",
       "      <th>annotatable</th>\n",
       "      <th>confidential</th>\n",
       "      <th>shareable</th>\n",
       "      <th>(page)views</th>\n",
       "      <th>likes</th>\n",
       "      <th>slug</th>\n",
       "    </tr>\n",
       "  </thead>\n",
       "  <tbody>\n",
       "    <tr>\n",
       "      <th>count</th>\n",
       "      <td>878</td>\n",
       "      <td>878</td>\n",
       "      <td>8.590000e+02</td>\n",
       "      <td>878</td>\n",
       "      <td>19</td>\n",
       "      <td>88</td>\n",
       "      <td>857</td>\n",
       "      <td>878.000000</td>\n",
       "      <td>878.000000</td>\n",
       "      <td>878.000000</td>\n",
       "      <td>878.000000</td>\n",
       "      <td>878.000000</td>\n",
       "      <td>878</td>\n",
       "    </tr>\n",
       "    <tr>\n",
       "      <th>unique</th>\n",
       "      <td>878</td>\n",
       "      <td>865</td>\n",
       "      <td>NaN</td>\n",
       "      <td>842</td>\n",
       "      <td>3</td>\n",
       "      <td>63</td>\n",
       "      <td>494</td>\n",
       "      <td>NaN</td>\n",
       "      <td>NaN</td>\n",
       "      <td>NaN</td>\n",
       "      <td>NaN</td>\n",
       "      <td>NaN</td>\n",
       "      <td>878</td>\n",
       "    </tr>\n",
       "    <tr>\n",
       "      <th>top</th>\n",
       "      <td>c4ba2713b047aa0c236ab7b730c30aa6</td>\n",
       "      <td>Why Showpad Video.mp4</td>\n",
       "      <td>NaN</td>\n",
       "      <td>2018-02-22 11:29:19</td>\n",
       "      <td>2019-03-10 23:00:00</td>\n",
       "      <td>Adobe AEM</td>\n",
       "      <td>SE Channel, SE Channel</td>\n",
       "      <td>NaN</td>\n",
       "      <td>NaN</td>\n",
       "      <td>NaN</td>\n",
       "      <td>NaN</td>\n",
       "      <td>NaN</td>\n",
       "      <td>3fe506b075babc00aa5c5c90b58d9577</td>\n",
       "    </tr>\n",
       "    <tr>\n",
       "      <th>freq</th>\n",
       "      <td>1</td>\n",
       "      <td>2</td>\n",
       "      <td>NaN</td>\n",
       "      <td>5</td>\n",
       "      <td>14</td>\n",
       "      <td>5</td>\n",
       "      <td>39</td>\n",
       "      <td>NaN</td>\n",
       "      <td>NaN</td>\n",
       "      <td>NaN</td>\n",
       "      <td>NaN</td>\n",
       "      <td>NaN</td>\n",
       "      <td>1</td>\n",
       "    </tr>\n",
       "    <tr>\n",
       "      <th>first</th>\n",
       "      <td>NaN</td>\n",
       "      <td>NaN</td>\n",
       "      <td>NaN</td>\n",
       "      <td>2015-10-26 20:54:08</td>\n",
       "      <td>NaN</td>\n",
       "      <td>NaN</td>\n",
       "      <td>NaN</td>\n",
       "      <td>NaN</td>\n",
       "      <td>NaN</td>\n",
       "      <td>NaN</td>\n",
       "      <td>NaN</td>\n",
       "      <td>NaN</td>\n",
       "      <td>NaN</td>\n",
       "    </tr>\n",
       "    <tr>\n",
       "      <th>last</th>\n",
       "      <td>NaN</td>\n",
       "      <td>NaN</td>\n",
       "      <td>NaN</td>\n",
       "      <td>2019-06-21 23:12:14</td>\n",
       "      <td>NaN</td>\n",
       "      <td>NaN</td>\n",
       "      <td>NaN</td>\n",
       "      <td>NaN</td>\n",
       "      <td>NaN</td>\n",
       "      <td>NaN</td>\n",
       "      <td>NaN</td>\n",
       "      <td>NaN</td>\n",
       "      <td>NaN</td>\n",
       "    </tr>\n",
       "    <tr>\n",
       "      <th>mean</th>\n",
       "      <td>NaN</td>\n",
       "      <td>NaN</td>\n",
       "      <td>2.684530e+07</td>\n",
       "      <td>NaN</td>\n",
       "      <td>NaN</td>\n",
       "      <td>NaN</td>\n",
       "      <td>NaN</td>\n",
       "      <td>0.576310</td>\n",
       "      <td>0.002278</td>\n",
       "      <td>0.970387</td>\n",
       "      <td>573.542141</td>\n",
       "      <td>0.156036</td>\n",
       "      <td>NaN</td>\n",
       "    </tr>\n",
       "    <tr>\n",
       "      <th>std</th>\n",
       "      <td>NaN</td>\n",
       "      <td>NaN</td>\n",
       "      <td>9.764371e+07</td>\n",
       "      <td>NaN</td>\n",
       "      <td>NaN</td>\n",
       "      <td>NaN</td>\n",
       "      <td>NaN</td>\n",
       "      <td>0.494424</td>\n",
       "      <td>0.047700</td>\n",
       "      <td>0.169613</td>\n",
       "      <td>1755.217202</td>\n",
       "      <td>0.582550</td>\n",
       "      <td>NaN</td>\n",
       "    </tr>\n",
       "    <tr>\n",
       "      <th>min</th>\n",
       "      <td>NaN</td>\n",
       "      <td>NaN</td>\n",
       "      <td>1.284000e+03</td>\n",
       "      <td>NaN</td>\n",
       "      <td>NaN</td>\n",
       "      <td>NaN</td>\n",
       "      <td>NaN</td>\n",
       "      <td>0.000000</td>\n",
       "      <td>0.000000</td>\n",
       "      <td>0.000000</td>\n",
       "      <td>0.000000</td>\n",
       "      <td>0.000000</td>\n",
       "      <td>NaN</td>\n",
       "    </tr>\n",
       "    <tr>\n",
       "      <th>25%</th>\n",
       "      <td>NaN</td>\n",
       "      <td>NaN</td>\n",
       "      <td>1.645305e+05</td>\n",
       "      <td>NaN</td>\n",
       "      <td>NaN</td>\n",
       "      <td>NaN</td>\n",
       "      <td>NaN</td>\n",
       "      <td>0.000000</td>\n",
       "      <td>0.000000</td>\n",
       "      <td>1.000000</td>\n",
       "      <td>15.000000</td>\n",
       "      <td>0.000000</td>\n",
       "      <td>NaN</td>\n",
       "    </tr>\n",
       "    <tr>\n",
       "      <th>50%</th>\n",
       "      <td>NaN</td>\n",
       "      <td>NaN</td>\n",
       "      <td>7.162160e+05</td>\n",
       "      <td>NaN</td>\n",
       "      <td>NaN</td>\n",
       "      <td>NaN</td>\n",
       "      <td>NaN</td>\n",
       "      <td>1.000000</td>\n",
       "      <td>0.000000</td>\n",
       "      <td>1.000000</td>\n",
       "      <td>115.000000</td>\n",
       "      <td>0.000000</td>\n",
       "      <td>NaN</td>\n",
       "    </tr>\n",
       "    <tr>\n",
       "      <th>75%</th>\n",
       "      <td>NaN</td>\n",
       "      <td>NaN</td>\n",
       "      <td>7.885318e+06</td>\n",
       "      <td>NaN</td>\n",
       "      <td>NaN</td>\n",
       "      <td>NaN</td>\n",
       "      <td>NaN</td>\n",
       "      <td>1.000000</td>\n",
       "      <td>0.000000</td>\n",
       "      <td>1.000000</td>\n",
       "      <td>493.000000</td>\n",
       "      <td>0.000000</td>\n",
       "      <td>NaN</td>\n",
       "    </tr>\n",
       "    <tr>\n",
       "      <th>max</th>\n",
       "      <td>NaN</td>\n",
       "      <td>NaN</td>\n",
       "      <td>1.768729e+09</td>\n",
       "      <td>NaN</td>\n",
       "      <td>NaN</td>\n",
       "      <td>NaN</td>\n",
       "      <td>NaN</td>\n",
       "      <td>1.000000</td>\n",
       "      <td>1.000000</td>\n",
       "      <td>1.000000</td>\n",
       "      <td>24783.000000</td>\n",
       "      <td>7.000000</td>\n",
       "      <td>NaN</td>\n",
       "    </tr>\n",
       "  </tbody>\n",
       "</table>\n",
       "</div>"
      ],
      "text/plain": [
       "                                      id             asset name          size  \\\n",
       "count                                878                    878  8.590000e+02   \n",
       "unique                               878                    865           NaN   \n",
       "top     c4ba2713b047aa0c236ab7b730c30aa6  Why Showpad Video.mp4           NaN   \n",
       "freq                                   1                      2           NaN   \n",
       "first                                NaN                    NaN           NaN   \n",
       "last                                 NaN                    NaN           NaN   \n",
       "mean                                 NaN                    NaN  2.684530e+07   \n",
       "std                                  NaN                    NaN  9.764371e+07   \n",
       "min                                  NaN                    NaN  1.284000e+03   \n",
       "25%                                  NaN                    NaN  1.645305e+05   \n",
       "50%                                  NaN                    NaN  7.162160e+05   \n",
       "75%                                  NaN                    NaN  7.885318e+06   \n",
       "max                                  NaN                    NaN  1.768729e+09   \n",
       "\n",
       "              uploaded date          expiry date       tags  \\\n",
       "count                   878                   19         88   \n",
       "unique                  842                    3         63   \n",
       "top     2018-02-22 11:29:19  2019-03-10 23:00:00  Adobe AEM   \n",
       "freq                      5                   14          5   \n",
       "first   2015-10-26 20:54:08                  NaN        NaN   \n",
       "last    2019-06-21 23:12:14                  NaN        NaN   \n",
       "mean                    NaN                  NaN        NaN   \n",
       "std                     NaN                  NaN        NaN   \n",
       "min                     NaN                  NaN        NaN   \n",
       "25%                     NaN                  NaN        NaN   \n",
       "50%                     NaN                  NaN        NaN   \n",
       "75%                     NaN                  NaN        NaN   \n",
       "max                     NaN                  NaN        NaN   \n",
       "\n",
       "              used in channels  annotatable  confidential   shareable  \\\n",
       "count                      857   878.000000    878.000000  878.000000   \n",
       "unique                     494          NaN           NaN         NaN   \n",
       "top     SE Channel, SE Channel          NaN           NaN         NaN   \n",
       "freq                        39          NaN           NaN         NaN   \n",
       "first                      NaN          NaN           NaN         NaN   \n",
       "last                       NaN          NaN           NaN         NaN   \n",
       "mean                       NaN     0.576310      0.002278    0.970387   \n",
       "std                        NaN     0.494424      0.047700    0.169613   \n",
       "min                        NaN     0.000000      0.000000    0.000000   \n",
       "25%                        NaN     0.000000      0.000000    1.000000   \n",
       "50%                        NaN     1.000000      0.000000    1.000000   \n",
       "75%                        NaN     1.000000      0.000000    1.000000   \n",
       "max                        NaN     1.000000      1.000000    1.000000   \n",
       "\n",
       "         (page)views       likes                              slug  \n",
       "count     878.000000  878.000000                               878  \n",
       "unique           NaN         NaN                               878  \n",
       "top              NaN         NaN  3fe506b075babc00aa5c5c90b58d9577  \n",
       "freq             NaN         NaN                                 1  \n",
       "first            NaN         NaN                               NaN  \n",
       "last             NaN         NaN                               NaN  \n",
       "mean      573.542141    0.156036                               NaN  \n",
       "std      1755.217202    0.582550                               NaN  \n",
       "min         0.000000    0.000000                               NaN  \n",
       "25%        15.000000    0.000000                               NaN  \n",
       "50%       115.000000    0.000000                               NaN  \n",
       "75%       493.000000    0.000000                               NaN  \n",
       "max     24783.000000    7.000000                               NaN  "
      ]
     },
     "execution_count": 5,
     "metadata": {},
     "output_type": "execute_result"
    }
   ],
   "source": [
    "mkt_lib['uploaded date'] = pd.to_datetime(mkt_lib['uploaded date'])\n",
    "mkt_lib.describe(include='all')"
   ]
  },
  {
   "cell_type": "code",
   "execution_count": 6,
   "metadata": {},
   "outputs": [
    {
     "data": {
      "text/html": [
       "<div>\n",
       "<style scoped>\n",
       "    .dataframe tbody tr th:only-of-type {\n",
       "        vertical-align: middle;\n",
       "    }\n",
       "\n",
       "    .dataframe tbody tr th {\n",
       "        vertical-align: top;\n",
       "    }\n",
       "\n",
       "    .dataframe thead th {\n",
       "        text-align: right;\n",
       "    }\n",
       "</style>\n",
       "<table border=\"1\" class=\"dataframe\">\n",
       "  <thead>\n",
       "    <tr style=\"text-align: right;\">\n",
       "      <th></th>\n",
       "      <th>Activity Type</th>\n",
       "      <th>Date</th>\n",
       "      <th>Sender Name</th>\n",
       "      <th>Sender Email</th>\n",
       "      <th>Title</th>\n",
       "      <th>Recipient Name</th>\n",
       "      <th>Recipient Email</th>\n",
       "      <th>File Name</th>\n",
       "      <th>Number of File Views</th>\n",
       "      <th>Number of File Downloads</th>\n",
       "    </tr>\n",
       "  </thead>\n",
       "  <tbody>\n",
       "    <tr>\n",
       "      <th>0</th>\n",
       "      <td>catalog</td>\n",
       "      <td>2019-07-08T15:22:44-07:00</td>\n",
       "      <td>Justine Cavan</td>\n",
       "      <td>justine.cavan@showpad.com</td>\n",
       "      <td>Gartner 2018 DCMS market guide</td>\n",
       "      <td>emilie.kraft@morningstar.com</td>\n",
       "      <td>emilie.kraft@morningstar.com</td>\n",
       "      <td>Gartner- Digital Content Management for Sales ...</td>\n",
       "      <td>2.0</td>\n",
       "      <td>1.0</td>\n",
       "    </tr>\n",
       "    <tr>\n",
       "      <th>1</th>\n",
       "      <td>catalog</td>\n",
       "      <td>2019-07-08T15:11:15-07:00</td>\n",
       "      <td>Justine Cavan</td>\n",
       "      <td>justine.cavan@showpad.com</td>\n",
       "      <td>Forrester Wave for SEA 2018</td>\n",
       "      <td>emilie.kraft@morningstar.com</td>\n",
       "      <td>emilie.kraft@morningstar.com</td>\n",
       "      <td>Forrester Wave Report Q3FY18.pdf</td>\n",
       "      <td>5.0</td>\n",
       "      <td>1.0</td>\n",
       "    </tr>\n",
       "    <tr>\n",
       "      <th>2</th>\n",
       "      <td>catalog</td>\n",
       "      <td>2019-07-08T14:15:36-07:00</td>\n",
       "      <td>Trevah Di Salvio</td>\n",
       "      <td>trevah.disalvio@showpad.com</td>\n",
       "      <td>LearnCore Account Migration to Showpad Coach -...</td>\n",
       "      <td>\"Botadra, Dharam\"</td>\n",
       "      <td>dharam.botadra@abbott.com</td>\n",
       "      <td>Showpad Coach For LearnCore Admins One Pager.pdf</td>\n",
       "      <td>0.0</td>\n",
       "      <td>0.0</td>\n",
       "    </tr>\n",
       "    <tr>\n",
       "      <th>3</th>\n",
       "      <td>catalog</td>\n",
       "      <td>2019-07-08T14:15:36-07:00</td>\n",
       "      <td>Trevah Di Salvio</td>\n",
       "      <td>trevah.disalvio@showpad.com</td>\n",
       "      <td>LearnCore Account Migration to Showpad Coach -...</td>\n",
       "      <td>\"Ortiz, Jennifer</td>\n",
       "      <td>jennifer.ortiz@abbott.com</td>\n",
       "      <td>Showpad Coach For LearnCore Admins One Pager.pdf</td>\n",
       "      <td>0.0</td>\n",
       "      <td>0.0</td>\n",
       "    </tr>\n",
       "    <tr>\n",
       "      <th>4</th>\n",
       "      <td>catalog</td>\n",
       "      <td>2019-07-08T14:15:36-07:00</td>\n",
       "      <td>Trevah Di Salvio</td>\n",
       "      <td>trevah.disalvio@showpad.com</td>\n",
       "      <td>LearnCore Account Migration to Showpad Coach -...</td>\n",
       "      <td>\"Castillo, Cristian</td>\n",
       "      <td>cristian.castillocamacho@abbott.com</td>\n",
       "      <td>Showpad Coach For LearnCore Admins One Pager.pdf</td>\n",
       "      <td>0.0</td>\n",
       "      <td>0.0</td>\n",
       "    </tr>\n",
       "    <tr>\n",
       "      <th>5</th>\n",
       "      <td>catalog</td>\n",
       "      <td>2019-07-08T14:15:36-07:00</td>\n",
       "      <td>Trevah Di Salvio</td>\n",
       "      <td>trevah.disalvio@showpad.com</td>\n",
       "      <td>LearnCore Account Migration to Showpad Coach -...</td>\n",
       "      <td>Robert Black</td>\n",
       "      <td>robert.black@showpad.com</td>\n",
       "      <td>Showpad Coach For LearnCore Admins One Pager.pdf</td>\n",
       "      <td>0.0</td>\n",
       "      <td>0.0</td>\n",
       "    </tr>\n",
       "    <tr>\n",
       "      <th>6</th>\n",
       "      <td>catalog</td>\n",
       "      <td>2019-07-08T14:13:00-07:00</td>\n",
       "      <td>Dan Langfield</td>\n",
       "      <td>daniel.langfield@showpad.com</td>\n",
       "      <td>Re: Are you sure?</td>\n",
       "      <td>\"Osmers, Mark\"</td>\n",
       "      <td>OsmersM@autonation.com</td>\n",
       "      <td>Cox Automotive Case Study.pdf</td>\n",
       "      <td>0.0</td>\n",
       "      <td>0.0</td>\n",
       "    </tr>\n",
       "    <tr>\n",
       "      <th>7</th>\n",
       "      <td>catalog</td>\n",
       "      <td>2019-07-08T14:04:00-07:00</td>\n",
       "      <td>Charles West</td>\n",
       "      <td>charles.west@showpad.com</td>\n",
       "      <td>No subject</td>\n",
       "      <td>NaN</td>\n",
       "      <td>NaN</td>\n",
       "      <td>NaN</td>\n",
       "      <td>NaN</td>\n",
       "      <td>NaN</td>\n",
       "    </tr>\n",
       "    <tr>\n",
       "      <th>8</th>\n",
       "      <td>catalog</td>\n",
       "      <td>2019-07-08T13:31:06-07:00</td>\n",
       "      <td>Dustin Levi</td>\n",
       "      <td>dustin.levi@showpad.com</td>\n",
       "      <td>sss</td>\n",
       "      <td>NaN</td>\n",
       "      <td>NaN</td>\n",
       "      <td>NaN</td>\n",
       "      <td>NaN</td>\n",
       "      <td>NaN</td>\n",
       "    </tr>\n",
       "    <tr>\n",
       "      <th>9</th>\n",
       "      <td>catalog</td>\n",
       "      <td>2019-07-08T13:23:20-07:00</td>\n",
       "      <td>Connor Love</td>\n",
       "      <td>connor.love@showpad.com</td>\n",
       "      <td>Newport</td>\n",
       "      <td>NaN</td>\n",
       "      <td>NaN</td>\n",
       "      <td>NaN</td>\n",
       "      <td>NaN</td>\n",
       "      <td>NaN</td>\n",
       "    </tr>\n",
       "  </tbody>\n",
       "</table>\n",
       "</div>"
      ],
      "text/plain": [
       "  Activity Type                       Date       Sender Name  \\\n",
       "0       catalog  2019-07-08T15:22:44-07:00     Justine Cavan   \n",
       "1       catalog  2019-07-08T15:11:15-07:00     Justine Cavan   \n",
       "2       catalog  2019-07-08T14:15:36-07:00  Trevah Di Salvio   \n",
       "3       catalog  2019-07-08T14:15:36-07:00  Trevah Di Salvio   \n",
       "4       catalog  2019-07-08T14:15:36-07:00  Trevah Di Salvio   \n",
       "5       catalog  2019-07-08T14:15:36-07:00  Trevah Di Salvio   \n",
       "6       catalog  2019-07-08T14:13:00-07:00     Dan Langfield   \n",
       "7       catalog  2019-07-08T14:04:00-07:00      Charles West   \n",
       "8       catalog  2019-07-08T13:31:06-07:00       Dustin Levi   \n",
       "9       catalog  2019-07-08T13:23:20-07:00       Connor Love   \n",
       "\n",
       "                   Sender Email  \\\n",
       "0     justine.cavan@showpad.com   \n",
       "1     justine.cavan@showpad.com   \n",
       "2   trevah.disalvio@showpad.com   \n",
       "3   trevah.disalvio@showpad.com   \n",
       "4   trevah.disalvio@showpad.com   \n",
       "5   trevah.disalvio@showpad.com   \n",
       "6  daniel.langfield@showpad.com   \n",
       "7      charles.west@showpad.com   \n",
       "8       dustin.levi@showpad.com   \n",
       "9       connor.love@showpad.com   \n",
       "\n",
       "                                               Title  \\\n",
       "0                     Gartner 2018 DCMS market guide   \n",
       "1                        Forrester Wave for SEA 2018   \n",
       "2  LearnCore Account Migration to Showpad Coach -...   \n",
       "3  LearnCore Account Migration to Showpad Coach -...   \n",
       "4  LearnCore Account Migration to Showpad Coach -...   \n",
       "5  LearnCore Account Migration to Showpad Coach -...   \n",
       "6                                  Re: Are you sure?   \n",
       "7                                         No subject   \n",
       "8                                                sss   \n",
       "9                                            Newport   \n",
       "\n",
       "                 Recipient Name                      Recipient Email  \\\n",
       "0  emilie.kraft@morningstar.com         emilie.kraft@morningstar.com   \n",
       "1  emilie.kraft@morningstar.com         emilie.kraft@morningstar.com   \n",
       "2             \"Botadra, Dharam\"            dharam.botadra@abbott.com   \n",
       "3              \"Ortiz, Jennifer            jennifer.ortiz@abbott.com   \n",
       "4           \"Castillo, Cristian  cristian.castillocamacho@abbott.com   \n",
       "5                  Robert Black             robert.black@showpad.com   \n",
       "6                \"Osmers, Mark\"               OsmersM@autonation.com   \n",
       "7                           NaN                                  NaN   \n",
       "8                           NaN                                  NaN   \n",
       "9                           NaN                                  NaN   \n",
       "\n",
       "                                           File Name  Number of File Views  \\\n",
       "0  Gartner- Digital Content Management for Sales ...                   2.0   \n",
       "1                   Forrester Wave Report Q3FY18.pdf                   5.0   \n",
       "2   Showpad Coach For LearnCore Admins One Pager.pdf                   0.0   \n",
       "3   Showpad Coach For LearnCore Admins One Pager.pdf                   0.0   \n",
       "4   Showpad Coach For LearnCore Admins One Pager.pdf                   0.0   \n",
       "5   Showpad Coach For LearnCore Admins One Pager.pdf                   0.0   \n",
       "6                      Cox Automotive Case Study.pdf                   0.0   \n",
       "7                                                NaN                   NaN   \n",
       "8                                                NaN                   NaN   \n",
       "9                                                NaN                   NaN   \n",
       "\n",
       "   Number of File Downloads  \n",
       "0                       1.0  \n",
       "1                       1.0  \n",
       "2                       0.0  \n",
       "3                       0.0  \n",
       "4                       0.0  \n",
       "5                       0.0  \n",
       "6                       0.0  \n",
       "7                       NaN  \n",
       "8                       NaN  \n",
       "9                       NaN  "
      ]
     },
     "execution_count": 6,
     "metadata": {},
     "output_type": "execute_result"
    }
   ],
   "source": [
    "user_act.head(10)"
   ]
  },
  {
   "cell_type": "code",
   "execution_count": 7,
   "metadata": {},
   "outputs": [
    {
     "data": {
      "text/html": [
       "<div>\n",
       "<style scoped>\n",
       "    .dataframe tbody tr th:only-of-type {\n",
       "        vertical-align: middle;\n",
       "    }\n",
       "\n",
       "    .dataframe tbody tr th {\n",
       "        vertical-align: top;\n",
       "    }\n",
       "\n",
       "    .dataframe thead th {\n",
       "        text-align: right;\n",
       "    }\n",
       "</style>\n",
       "<table border=\"1\" class=\"dataframe\">\n",
       "  <thead>\n",
       "    <tr style=\"text-align: right;\">\n",
       "      <th></th>\n",
       "      <th>Activity Type</th>\n",
       "      <th>Date</th>\n",
       "      <th>Sender Name</th>\n",
       "      <th>Sender Email</th>\n",
       "      <th>Title</th>\n",
       "      <th>Recipient Name</th>\n",
       "      <th>Recipient Email</th>\n",
       "      <th>File Name</th>\n",
       "      <th>Number of File Views</th>\n",
       "      <th>Number of File Downloads</th>\n",
       "    </tr>\n",
       "  </thead>\n",
       "  <tbody>\n",
       "    <tr>\n",
       "      <th>count</th>\n",
       "      <td>4624</td>\n",
       "      <td>4624</td>\n",
       "      <td>4624</td>\n",
       "      <td>4624</td>\n",
       "      <td>4614</td>\n",
       "      <td>4049</td>\n",
       "      <td>2601</td>\n",
       "      <td>3921</td>\n",
       "      <td>3921.000000</td>\n",
       "      <td>3921.000000</td>\n",
       "    </tr>\n",
       "    <tr>\n",
       "      <th>unique</th>\n",
       "      <td>2</td>\n",
       "      <td>1541</td>\n",
       "      <td>152</td>\n",
       "      <td>152</td>\n",
       "      <td>1103</td>\n",
       "      <td>1081</td>\n",
       "      <td>1007</td>\n",
       "      <td>655</td>\n",
       "      <td>NaN</td>\n",
       "      <td>NaN</td>\n",
       "    </tr>\n",
       "    <tr>\n",
       "      <th>top</th>\n",
       "      <td>catalog</td>\n",
       "      <td>2019-07-08T00:26:54-07:00</td>\n",
       "      <td>Sarah Setlak</td>\n",
       "      <td>sarah.setlak@showpad.com</td>\n",
       "      <td>No subject</td>\n",
       "      <td>Chrome on Mac 1</td>\n",
       "      <td>daniela.kohler@sandvik.com</td>\n",
       "      <td>Showpad Platform One Pager.pdf</td>\n",
       "      <td>NaN</td>\n",
       "      <td>NaN</td>\n",
       "    </tr>\n",
       "    <tr>\n",
       "      <th>freq</th>\n",
       "      <td>4496</td>\n",
       "      <td>90</td>\n",
       "      <td>180</td>\n",
       "      <td>180</td>\n",
       "      <td>304</td>\n",
       "      <td>410</td>\n",
       "      <td>129</td>\n",
       "      <td>269</td>\n",
       "      <td>NaN</td>\n",
       "      <td>NaN</td>\n",
       "    </tr>\n",
       "    <tr>\n",
       "      <th>mean</th>\n",
       "      <td>NaN</td>\n",
       "      <td>NaN</td>\n",
       "      <td>NaN</td>\n",
       "      <td>NaN</td>\n",
       "      <td>NaN</td>\n",
       "      <td>NaN</td>\n",
       "      <td>NaN</td>\n",
       "      <td>NaN</td>\n",
       "      <td>1.384086</td>\n",
       "      <td>0.342005</td>\n",
       "    </tr>\n",
       "    <tr>\n",
       "      <th>std</th>\n",
       "      <td>NaN</td>\n",
       "      <td>NaN</td>\n",
       "      <td>NaN</td>\n",
       "      <td>NaN</td>\n",
       "      <td>NaN</td>\n",
       "      <td>NaN</td>\n",
       "      <td>NaN</td>\n",
       "      <td>NaN</td>\n",
       "      <td>4.656068</td>\n",
       "      <td>1.829072</td>\n",
       "    </tr>\n",
       "    <tr>\n",
       "      <th>min</th>\n",
       "      <td>NaN</td>\n",
       "      <td>NaN</td>\n",
       "      <td>NaN</td>\n",
       "      <td>NaN</td>\n",
       "      <td>NaN</td>\n",
       "      <td>NaN</td>\n",
       "      <td>NaN</td>\n",
       "      <td>NaN</td>\n",
       "      <td>0.000000</td>\n",
       "      <td>0.000000</td>\n",
       "    </tr>\n",
       "    <tr>\n",
       "      <th>25%</th>\n",
       "      <td>NaN</td>\n",
       "      <td>NaN</td>\n",
       "      <td>NaN</td>\n",
       "      <td>NaN</td>\n",
       "      <td>NaN</td>\n",
       "      <td>NaN</td>\n",
       "      <td>NaN</td>\n",
       "      <td>NaN</td>\n",
       "      <td>0.000000</td>\n",
       "      <td>0.000000</td>\n",
       "    </tr>\n",
       "    <tr>\n",
       "      <th>50%</th>\n",
       "      <td>NaN</td>\n",
       "      <td>NaN</td>\n",
       "      <td>NaN</td>\n",
       "      <td>NaN</td>\n",
       "      <td>NaN</td>\n",
       "      <td>NaN</td>\n",
       "      <td>NaN</td>\n",
       "      <td>NaN</td>\n",
       "      <td>0.000000</td>\n",
       "      <td>0.000000</td>\n",
       "    </tr>\n",
       "    <tr>\n",
       "      <th>75%</th>\n",
       "      <td>NaN</td>\n",
       "      <td>NaN</td>\n",
       "      <td>NaN</td>\n",
       "      <td>NaN</td>\n",
       "      <td>NaN</td>\n",
       "      <td>NaN</td>\n",
       "      <td>NaN</td>\n",
       "      <td>NaN</td>\n",
       "      <td>1.000000</td>\n",
       "      <td>0.000000</td>\n",
       "    </tr>\n",
       "    <tr>\n",
       "      <th>max</th>\n",
       "      <td>NaN</td>\n",
       "      <td>NaN</td>\n",
       "      <td>NaN</td>\n",
       "      <td>NaN</td>\n",
       "      <td>NaN</td>\n",
       "      <td>NaN</td>\n",
       "      <td>NaN</td>\n",
       "      <td>NaN</td>\n",
       "      <td>108.000000</td>\n",
       "      <td>61.000000</td>\n",
       "    </tr>\n",
       "  </tbody>\n",
       "</table>\n",
       "</div>"
      ],
      "text/plain": [
       "       Activity Type                       Date   Sender Name  \\\n",
       "count           4624                       4624          4624   \n",
       "unique             2                       1541           152   \n",
       "top          catalog  2019-07-08T00:26:54-07:00  Sarah Setlak   \n",
       "freq            4496                         90           180   \n",
       "mean             NaN                        NaN           NaN   \n",
       "std              NaN                        NaN           NaN   \n",
       "min              NaN                        NaN           NaN   \n",
       "25%              NaN                        NaN           NaN   \n",
       "50%              NaN                        NaN           NaN   \n",
       "75%              NaN                        NaN           NaN   \n",
       "max              NaN                        NaN           NaN   \n",
       "\n",
       "                    Sender Email       Title   Recipient Name  \\\n",
       "count                       4624        4614             4049   \n",
       "unique                       152        1103             1081   \n",
       "top     sarah.setlak@showpad.com  No subject  Chrome on Mac 1   \n",
       "freq                         180         304              410   \n",
       "mean                         NaN         NaN              NaN   \n",
       "std                          NaN         NaN              NaN   \n",
       "min                          NaN         NaN              NaN   \n",
       "25%                          NaN         NaN              NaN   \n",
       "50%                          NaN         NaN              NaN   \n",
       "75%                          NaN         NaN              NaN   \n",
       "max                          NaN         NaN              NaN   \n",
       "\n",
       "                   Recipient Email                       File Name  \\\n",
       "count                         2601                            3921   \n",
       "unique                        1007                             655   \n",
       "top     daniela.kohler@sandvik.com  Showpad Platform One Pager.pdf   \n",
       "freq                           129                             269   \n",
       "mean                           NaN                             NaN   \n",
       "std                            NaN                             NaN   \n",
       "min                            NaN                             NaN   \n",
       "25%                            NaN                             NaN   \n",
       "50%                            NaN                             NaN   \n",
       "75%                            NaN                             NaN   \n",
       "max                            NaN                             NaN   \n",
       "\n",
       "        Number of File Views  Number of File Downloads  \n",
       "count            3921.000000               3921.000000  \n",
       "unique                   NaN                       NaN  \n",
       "top                      NaN                       NaN  \n",
       "freq                     NaN                       NaN  \n",
       "mean                1.384086                  0.342005  \n",
       "std                 4.656068                  1.829072  \n",
       "min                 0.000000                  0.000000  \n",
       "25%                 0.000000                  0.000000  \n",
       "50%                 0.000000                  0.000000  \n",
       "75%                 1.000000                  0.000000  \n",
       "max               108.000000                 61.000000  "
      ]
     },
     "execution_count": 7,
     "metadata": {},
     "output_type": "execute_result"
    }
   ],
   "source": [
    "user_act.describe(include=\"all\")"
   ]
  },
  {
   "cell_type": "code",
   "execution_count": 8,
   "metadata": {},
   "outputs": [
    {
     "data": {
      "text/plain": [
       "Index(['Activity Type', 'Date', 'Sender Name', 'Sender Email', 'Title',\n",
       "       'Recipient Name', 'Recipient Email', 'File Name',\n",
       "       'Number of File Views', 'Number of File Downloads'],\n",
       "      dtype='object')"
      ]
     },
     "execution_count": 8,
     "metadata": {},
     "output_type": "execute_result"
    }
   ],
   "source": [
    "user_act.columns"
   ]
  },
  {
   "cell_type": "code",
   "execution_count": 9,
   "metadata": {},
   "outputs": [
    {
     "name": "stderr",
     "output_type": "stream",
     "text": [
      "/anaconda3/lib/python3.7/site-packages/pandas/core/generic.py:5096: SettingWithCopyWarning: \n",
      "A value is trying to be set on a copy of a slice from a DataFrame.\n",
      "Try using .loc[row_indexer,col_indexer] = value instead\n",
      "\n",
      "See the caveats in the documentation: http://pandas.pydata.org/pandas-docs/stable/indexing.html#indexing-view-versus-copy\n",
      "  self[name] = value\n"
     ]
    },
    {
     "data": {
      "text/plain": [
       "(3921, 10)"
      ]
     },
     "execution_count": 9,
     "metadata": {},
     "output_type": "execute_result"
    }
   ],
   "source": [
    "## Remove rows that file name is NaN\n",
    "user_act_copy = user_act.dropna(subset = ['File Name'])\n",
    "user_act_copy.Date = pd.to_datetime(user_act_copy['Date'])\n",
    "user_act_copy.shape"
   ]
  },
  {
   "cell_type": "code",
   "execution_count": 10,
   "metadata": {},
   "outputs": [
    {
     "data": {
      "text/html": [
       "<div>\n",
       "<style scoped>\n",
       "    .dataframe tbody tr th:only-of-type {\n",
       "        vertical-align: middle;\n",
       "    }\n",
       "\n",
       "    .dataframe tbody tr th {\n",
       "        vertical-align: top;\n",
       "    }\n",
       "\n",
       "    .dataframe thead th {\n",
       "        text-align: right;\n",
       "    }\n",
       "</style>\n",
       "<table border=\"1\" class=\"dataframe\">\n",
       "  <thead>\n",
       "    <tr style=\"text-align: right;\">\n",
       "      <th></th>\n",
       "      <th>Id</th>\n",
       "      <th>Display name</th>\n",
       "      <th>Type</th>\n",
       "      <th>Source</th>\n",
       "      <th>Division Name</th>\n",
       "      <th>Owner id</th>\n",
       "      <th>Owner name</th>\n",
       "      <th>Deleted Asset</th>\n",
       "      <th>Edited Asset</th>\n",
       "      <th>In-app number of views</th>\n",
       "      <th>In-app avg daily view duration (secs)</th>\n",
       "      <th>In-app viewers</th>\n",
       "      <th>In-app avg view duration (secs)</th>\n",
       "      <th>Recipient number of views</th>\n",
       "      <th>Recipient avg daily view duration (secs)</th>\n",
       "      <th>Recipient viewers</th>\n",
       "      <th>Recipient avg view duration (secs)</th>\n",
       "      <th>Shares</th>\n",
       "      <th>Social shares</th>\n",
       "    </tr>\n",
       "  </thead>\n",
       "  <tbody>\n",
       "    <tr>\n",
       "      <th>0</th>\n",
       "      <td>c2f68c76b98f5b79405b530fed21b109</td>\n",
       "      <td>Showpad Sales Enablement Platform Overview.pdf</td>\n",
       "      <td>document</td>\n",
       "      <td>Marketing</td>\n",
       "      <td>*Global Sales Enablement</td>\n",
       "      <td>NaN</td>\n",
       "      <td>NaN</td>\n",
       "      <td>False</td>\n",
       "      <td>False</td>\n",
       "      <td>1272</td>\n",
       "      <td>3362.0</td>\n",
       "      <td>87</td>\n",
       "      <td>66.0</td>\n",
       "      <td>360</td>\n",
       "      <td>854.0</td>\n",
       "      <td>63</td>\n",
       "      <td>57.0</td>\n",
       "      <td>116</td>\n",
       "      <td>1</td>\n",
       "    </tr>\n",
       "    <tr>\n",
       "      <th>1</th>\n",
       "      <td>4f8b6c928b7014e898719b42e756647d</td>\n",
       "      <td>Showpad Content Overview Deck.pptx</td>\n",
       "      <td>document</td>\n",
       "      <td>Marketing</td>\n",
       "      <td>*Global Sales Enablement</td>\n",
       "      <td>NaN</td>\n",
       "      <td>NaN</td>\n",
       "      <td>False</td>\n",
       "      <td>False</td>\n",
       "      <td>223</td>\n",
       "      <td>429.0</td>\n",
       "      <td>37</td>\n",
       "      <td>37.0</td>\n",
       "      <td>246</td>\n",
       "      <td>649.0</td>\n",
       "      <td>25</td>\n",
       "      <td>40.0</td>\n",
       "      <td>49</td>\n",
       "      <td>7</td>\n",
       "    </tr>\n",
       "    <tr>\n",
       "      <th>2</th>\n",
       "      <td>3eec7d598b5d6c64fc0e9d026b12be4d</td>\n",
       "      <td>Showpad Coach Overview deck.pdf</td>\n",
       "      <td>document</td>\n",
       "      <td>Marketing</td>\n",
       "      <td>*Global Sales Enablement</td>\n",
       "      <td>NaN</td>\n",
       "      <td>NaN</td>\n",
       "      <td>False</td>\n",
       "      <td>False</td>\n",
       "      <td>184</td>\n",
       "      <td>582.0</td>\n",
       "      <td>38</td>\n",
       "      <td>70.0</td>\n",
       "      <td>74</td>\n",
       "      <td>533.0</td>\n",
       "      <td>21</td>\n",
       "      <td>108.0</td>\n",
       "      <td>33</td>\n",
       "      <td>1</td>\n",
       "    </tr>\n",
       "    <tr>\n",
       "      <th>3</th>\n",
       "      <td>03ab719f50952dfaa2eb76ae03e0844c</td>\n",
       "      <td>Showpad Platform One Pager.pdf</td>\n",
       "      <td>document</td>\n",
       "      <td>Marketing</td>\n",
       "      <td>*Global Sales Enablement</td>\n",
       "      <td>NaN</td>\n",
       "      <td>NaN</td>\n",
       "      <td>False</td>\n",
       "      <td>False</td>\n",
       "      <td>163</td>\n",
       "      <td>185.0</td>\n",
       "      <td>59</td>\n",
       "      <td>25.0</td>\n",
       "      <td>195</td>\n",
       "      <td>721.0</td>\n",
       "      <td>80</td>\n",
       "      <td>85.0</td>\n",
       "      <td>264</td>\n",
       "      <td>38</td>\n",
       "    </tr>\n",
       "    <tr>\n",
       "      <th>4</th>\n",
       "      <td>b7eea6fc9e95429f25f18767b3b3dbdc</td>\n",
       "      <td>Salesforce Integration Overview Deck.pdf</td>\n",
       "      <td>document</td>\n",
       "      <td>Marketing</td>\n",
       "      <td>*Global Sales Enablement</td>\n",
       "      <td>NaN</td>\n",
       "      <td>NaN</td>\n",
       "      <td>False</td>\n",
       "      <td>False</td>\n",
       "      <td>80</td>\n",
       "      <td>253.0</td>\n",
       "      <td>20</td>\n",
       "      <td>51.0</td>\n",
       "      <td>196</td>\n",
       "      <td>981.0</td>\n",
       "      <td>21</td>\n",
       "      <td>65.0</td>\n",
       "      <td>19</td>\n",
       "      <td>2</td>\n",
       "    </tr>\n",
       "  </tbody>\n",
       "</table>\n",
       "</div>"
      ],
      "text/plain": [
       "                                 Id  \\\n",
       "0  c2f68c76b98f5b79405b530fed21b109   \n",
       "1  4f8b6c928b7014e898719b42e756647d   \n",
       "2  3eec7d598b5d6c64fc0e9d026b12be4d   \n",
       "3  03ab719f50952dfaa2eb76ae03e0844c   \n",
       "4  b7eea6fc9e95429f25f18767b3b3dbdc   \n",
       "\n",
       "                                     Display name      Type     Source  \\\n",
       "0  Showpad Sales Enablement Platform Overview.pdf  document  Marketing   \n",
       "1              Showpad Content Overview Deck.pptx  document  Marketing   \n",
       "2                 Showpad Coach Overview deck.pdf  document  Marketing   \n",
       "3                  Showpad Platform One Pager.pdf  document  Marketing   \n",
       "4        Salesforce Integration Overview Deck.pdf  document  Marketing   \n",
       "\n",
       "              Division Name  Owner id  Owner name  Deleted Asset  \\\n",
       "0  *Global Sales Enablement       NaN         NaN          False   \n",
       "1  *Global Sales Enablement       NaN         NaN          False   \n",
       "2  *Global Sales Enablement       NaN         NaN          False   \n",
       "3  *Global Sales Enablement       NaN         NaN          False   \n",
       "4  *Global Sales Enablement       NaN         NaN          False   \n",
       "\n",
       "   Edited Asset  In-app number of views  \\\n",
       "0         False                    1272   \n",
       "1         False                     223   \n",
       "2         False                     184   \n",
       "3         False                     163   \n",
       "4         False                      80   \n",
       "\n",
       "   In-app avg daily view duration (secs)  In-app viewers  \\\n",
       "0                                 3362.0              87   \n",
       "1                                  429.0              37   \n",
       "2                                  582.0              38   \n",
       "3                                  185.0              59   \n",
       "4                                  253.0              20   \n",
       "\n",
       "   In-app avg view duration (secs)  Recipient number of views  \\\n",
       "0                             66.0                        360   \n",
       "1                             37.0                        246   \n",
       "2                             70.0                         74   \n",
       "3                             25.0                        195   \n",
       "4                             51.0                        196   \n",
       "\n",
       "   Recipient avg daily view duration (secs)  Recipient viewers  \\\n",
       "0                                     854.0                 63   \n",
       "1                                     649.0                 25   \n",
       "2                                     533.0                 21   \n",
       "3                                     721.0                 80   \n",
       "4                                     981.0                 21   \n",
       "\n",
       "   Recipient avg view duration (secs)  Shares  Social shares  \n",
       "0                                57.0     116              1  \n",
       "1                                40.0      49              7  \n",
       "2                               108.0      33              1  \n",
       "3                                85.0     264             38  \n",
       "4                                65.0      19              2  "
      ]
     },
     "execution_count": 10,
     "metadata": {},
     "output_type": "execute_result"
    }
   ],
   "source": [
    "top_mkt.head()"
   ]
  },
  {
   "cell_type": "code",
   "execution_count": 11,
   "metadata": {},
   "outputs": [
    {
     "data": {
      "text/html": [
       "<div>\n",
       "<style scoped>\n",
       "    .dataframe tbody tr th:only-of-type {\n",
       "        vertical-align: middle;\n",
       "    }\n",
       "\n",
       "    .dataframe tbody tr th {\n",
       "        vertical-align: top;\n",
       "    }\n",
       "\n",
       "    .dataframe thead th {\n",
       "        text-align: right;\n",
       "    }\n",
       "</style>\n",
       "<table border=\"1\" class=\"dataframe\">\n",
       "  <thead>\n",
       "    <tr style=\"text-align: right;\">\n",
       "      <th></th>\n",
       "      <th>Id</th>\n",
       "      <th>Display name</th>\n",
       "      <th>Type</th>\n",
       "      <th>Source</th>\n",
       "      <th>Division Name</th>\n",
       "      <th>Owner id</th>\n",
       "      <th>Owner name</th>\n",
       "      <th>Deleted Asset</th>\n",
       "      <th>Edited Asset</th>\n",
       "      <th>In-app number of views</th>\n",
       "      <th>In-app avg daily view duration (secs)</th>\n",
       "      <th>In-app viewers</th>\n",
       "      <th>In-app avg view duration (secs)</th>\n",
       "      <th>Recipient number of views</th>\n",
       "      <th>Recipient avg daily view duration (secs)</th>\n",
       "      <th>Recipient viewers</th>\n",
       "      <th>Recipient avg view duration (secs)</th>\n",
       "      <th>Shares</th>\n",
       "      <th>Social shares</th>\n",
       "    </tr>\n",
       "  </thead>\n",
       "  <tbody>\n",
       "    <tr>\n",
       "      <th>count</th>\n",
       "      <td>472</td>\n",
       "      <td>472</td>\n",
       "      <td>472</td>\n",
       "      <td>472</td>\n",
       "      <td>472</td>\n",
       "      <td>0.0</td>\n",
       "      <td>0.0</td>\n",
       "      <td>472</td>\n",
       "      <td>472</td>\n",
       "      <td>472.000000</td>\n",
       "      <td>456.000000</td>\n",
       "      <td>472.000000</td>\n",
       "      <td>456.00000</td>\n",
       "      <td>472.000000</td>\n",
       "      <td>456.000000</td>\n",
       "      <td>472.000000</td>\n",
       "      <td>456.000000</td>\n",
       "      <td>472.000000</td>\n",
       "      <td>472.000000</td>\n",
       "    </tr>\n",
       "    <tr>\n",
       "      <th>unique</th>\n",
       "      <td>472</td>\n",
       "      <td>471</td>\n",
       "      <td>6</td>\n",
       "      <td>1</td>\n",
       "      <td>2</td>\n",
       "      <td>NaN</td>\n",
       "      <td>NaN</td>\n",
       "      <td>2</td>\n",
       "      <td>1</td>\n",
       "      <td>NaN</td>\n",
       "      <td>NaN</td>\n",
       "      <td>NaN</td>\n",
       "      <td>NaN</td>\n",
       "      <td>NaN</td>\n",
       "      <td>NaN</td>\n",
       "      <td>NaN</td>\n",
       "      <td>NaN</td>\n",
       "      <td>NaN</td>\n",
       "      <td>NaN</td>\n",
       "    </tr>\n",
       "    <tr>\n",
       "      <th>top</th>\n",
       "      <td>2ba3af9d5a386a2056ea4b203b4cd2ab</td>\n",
       "      <td>Showpad Success Stories.url</td>\n",
       "      <td>document</td>\n",
       "      <td>Marketing</td>\n",
       "      <td>*Global Sales Enablement</td>\n",
       "      <td>NaN</td>\n",
       "      <td>NaN</td>\n",
       "      <td>False</td>\n",
       "      <td>False</td>\n",
       "      <td>NaN</td>\n",
       "      <td>NaN</td>\n",
       "      <td>NaN</td>\n",
       "      <td>NaN</td>\n",
       "      <td>NaN</td>\n",
       "      <td>NaN</td>\n",
       "      <td>NaN</td>\n",
       "      <td>NaN</td>\n",
       "      <td>NaN</td>\n",
       "      <td>NaN</td>\n",
       "    </tr>\n",
       "    <tr>\n",
       "      <th>freq</th>\n",
       "      <td>1</td>\n",
       "      <td>2</td>\n",
       "      <td>312</td>\n",
       "      <td>472</td>\n",
       "      <td>431</td>\n",
       "      <td>NaN</td>\n",
       "      <td>NaN</td>\n",
       "      <td>471</td>\n",
       "      <td>472</td>\n",
       "      <td>NaN</td>\n",
       "      <td>NaN</td>\n",
       "      <td>NaN</td>\n",
       "      <td>NaN</td>\n",
       "      <td>NaN</td>\n",
       "      <td>NaN</td>\n",
       "      <td>NaN</td>\n",
       "      <td>NaN</td>\n",
       "      <td>NaN</td>\n",
       "      <td>NaN</td>\n",
       "    </tr>\n",
       "    <tr>\n",
       "      <th>mean</th>\n",
       "      <td>NaN</td>\n",
       "      <td>NaN</td>\n",
       "      <td>NaN</td>\n",
       "      <td>NaN</td>\n",
       "      <td>NaN</td>\n",
       "      <td>NaN</td>\n",
       "      <td>NaN</td>\n",
       "      <td>NaN</td>\n",
       "      <td>NaN</td>\n",
       "      <td>15.502119</td>\n",
       "      <td>86.120614</td>\n",
       "      <td>5.654661</td>\n",
       "      <td>34.75000</td>\n",
       "      <td>8.724576</td>\n",
       "      <td>142.467105</td>\n",
       "      <td>2.442797</td>\n",
       "      <td>35.111842</td>\n",
       "      <td>5.398305</td>\n",
       "      <td>1.233051</td>\n",
       "    </tr>\n",
       "    <tr>\n",
       "      <th>std</th>\n",
       "      <td>NaN</td>\n",
       "      <td>NaN</td>\n",
       "      <td>NaN</td>\n",
       "      <td>NaN</td>\n",
       "      <td>NaN</td>\n",
       "      <td>NaN</td>\n",
       "      <td>NaN</td>\n",
       "      <td>NaN</td>\n",
       "      <td>NaN</td>\n",
       "      <td>61.740055</td>\n",
       "      <td>215.892028</td>\n",
       "      <td>7.683869</td>\n",
       "      <td>61.75687</td>\n",
       "      <td>29.175732</td>\n",
       "      <td>582.973800</td>\n",
       "      <td>7.771205</td>\n",
       "      <td>111.747530</td>\n",
       "      <td>19.931471</td>\n",
       "      <td>4.724325</td>\n",
       "    </tr>\n",
       "    <tr>\n",
       "      <th>min</th>\n",
       "      <td>NaN</td>\n",
       "      <td>NaN</td>\n",
       "      <td>NaN</td>\n",
       "      <td>NaN</td>\n",
       "      <td>NaN</td>\n",
       "      <td>NaN</td>\n",
       "      <td>NaN</td>\n",
       "      <td>NaN</td>\n",
       "      <td>NaN</td>\n",
       "      <td>0.000000</td>\n",
       "      <td>0.000000</td>\n",
       "      <td>0.000000</td>\n",
       "      <td>0.00000</td>\n",
       "      <td>0.000000</td>\n",
       "      <td>0.000000</td>\n",
       "      <td>0.000000</td>\n",
       "      <td>0.000000</td>\n",
       "      <td>0.000000</td>\n",
       "      <td>0.000000</td>\n",
       "    </tr>\n",
       "    <tr>\n",
       "      <th>25%</th>\n",
       "      <td>NaN</td>\n",
       "      <td>NaN</td>\n",
       "      <td>NaN</td>\n",
       "      <td>NaN</td>\n",
       "      <td>NaN</td>\n",
       "      <td>NaN</td>\n",
       "      <td>NaN</td>\n",
       "      <td>NaN</td>\n",
       "      <td>NaN</td>\n",
       "      <td>2.000000</td>\n",
       "      <td>14.000000</td>\n",
       "      <td>1.000000</td>\n",
       "      <td>10.00000</td>\n",
       "      <td>0.000000</td>\n",
       "      <td>0.000000</td>\n",
       "      <td>0.000000</td>\n",
       "      <td>0.000000</td>\n",
       "      <td>0.000000</td>\n",
       "      <td>0.000000</td>\n",
       "    </tr>\n",
       "    <tr>\n",
       "      <th>50%</th>\n",
       "      <td>NaN</td>\n",
       "      <td>NaN</td>\n",
       "      <td>NaN</td>\n",
       "      <td>NaN</td>\n",
       "      <td>NaN</td>\n",
       "      <td>NaN</td>\n",
       "      <td>NaN</td>\n",
       "      <td>NaN</td>\n",
       "      <td>NaN</td>\n",
       "      <td>6.000000</td>\n",
       "      <td>39.000000</td>\n",
       "      <td>3.000000</td>\n",
       "      <td>20.00000</td>\n",
       "      <td>0.000000</td>\n",
       "      <td>0.000000</td>\n",
       "      <td>0.000000</td>\n",
       "      <td>0.000000</td>\n",
       "      <td>1.000000</td>\n",
       "      <td>0.000000</td>\n",
       "    </tr>\n",
       "    <tr>\n",
       "      <th>75%</th>\n",
       "      <td>NaN</td>\n",
       "      <td>NaN</td>\n",
       "      <td>NaN</td>\n",
       "      <td>NaN</td>\n",
       "      <td>NaN</td>\n",
       "      <td>NaN</td>\n",
       "      <td>NaN</td>\n",
       "      <td>NaN</td>\n",
       "      <td>NaN</td>\n",
       "      <td>16.000000</td>\n",
       "      <td>82.250000</td>\n",
       "      <td>7.000000</td>\n",
       "      <td>36.00000</td>\n",
       "      <td>5.000000</td>\n",
       "      <td>59.500000</td>\n",
       "      <td>2.000000</td>\n",
       "      <td>22.000000</td>\n",
       "      <td>4.000000</td>\n",
       "      <td>1.000000</td>\n",
       "    </tr>\n",
       "    <tr>\n",
       "      <th>max</th>\n",
       "      <td>NaN</td>\n",
       "      <td>NaN</td>\n",
       "      <td>NaN</td>\n",
       "      <td>NaN</td>\n",
       "      <td>NaN</td>\n",
       "      <td>NaN</td>\n",
       "      <td>NaN</td>\n",
       "      <td>NaN</td>\n",
       "      <td>NaN</td>\n",
       "      <td>1272.000000</td>\n",
       "      <td>3362.000000</td>\n",
       "      <td>87.000000</td>\n",
       "      <td>632.00000</td>\n",
       "      <td>360.000000</td>\n",
       "      <td>9618.000000</td>\n",
       "      <td>80.000000</td>\n",
       "      <td>1132.000000</td>\n",
       "      <td>264.000000</td>\n",
       "      <td>73.000000</td>\n",
       "    </tr>\n",
       "  </tbody>\n",
       "</table>\n",
       "</div>"
      ],
      "text/plain": [
       "                                      Id                 Display name  \\\n",
       "count                                472                          472   \n",
       "unique                               472                          471   \n",
       "top     2ba3af9d5a386a2056ea4b203b4cd2ab  Showpad Success Stories.url   \n",
       "freq                                   1                            2   \n",
       "mean                                 NaN                          NaN   \n",
       "std                                  NaN                          NaN   \n",
       "min                                  NaN                          NaN   \n",
       "25%                                  NaN                          NaN   \n",
       "50%                                  NaN                          NaN   \n",
       "75%                                  NaN                          NaN   \n",
       "max                                  NaN                          NaN   \n",
       "\n",
       "            Type     Source             Division Name  Owner id  Owner name  \\\n",
       "count        472        472                       472       0.0         0.0   \n",
       "unique         6          1                         2       NaN         NaN   \n",
       "top     document  Marketing  *Global Sales Enablement       NaN         NaN   \n",
       "freq         312        472                       431       NaN         NaN   \n",
       "mean         NaN        NaN                       NaN       NaN         NaN   \n",
       "std          NaN        NaN                       NaN       NaN         NaN   \n",
       "min          NaN        NaN                       NaN       NaN         NaN   \n",
       "25%          NaN        NaN                       NaN       NaN         NaN   \n",
       "50%          NaN        NaN                       NaN       NaN         NaN   \n",
       "75%          NaN        NaN                       NaN       NaN         NaN   \n",
       "max          NaN        NaN                       NaN       NaN         NaN   \n",
       "\n",
       "       Deleted Asset Edited Asset  In-app number of views  \\\n",
       "count            472          472              472.000000   \n",
       "unique             2            1                     NaN   \n",
       "top            False        False                     NaN   \n",
       "freq             471          472                     NaN   \n",
       "mean             NaN          NaN               15.502119   \n",
       "std              NaN          NaN               61.740055   \n",
       "min              NaN          NaN                0.000000   \n",
       "25%              NaN          NaN                2.000000   \n",
       "50%              NaN          NaN                6.000000   \n",
       "75%              NaN          NaN               16.000000   \n",
       "max              NaN          NaN             1272.000000   \n",
       "\n",
       "        In-app avg daily view duration (secs)  In-app viewers  \\\n",
       "count                              456.000000      472.000000   \n",
       "unique                                    NaN             NaN   \n",
       "top                                       NaN             NaN   \n",
       "freq                                      NaN             NaN   \n",
       "mean                                86.120614        5.654661   \n",
       "std                                215.892028        7.683869   \n",
       "min                                  0.000000        0.000000   \n",
       "25%                                 14.000000        1.000000   \n",
       "50%                                 39.000000        3.000000   \n",
       "75%                                 82.250000        7.000000   \n",
       "max                               3362.000000       87.000000   \n",
       "\n",
       "        In-app avg view duration (secs)  Recipient number of views  \\\n",
       "count                         456.00000                 472.000000   \n",
       "unique                              NaN                        NaN   \n",
       "top                                 NaN                        NaN   \n",
       "freq                                NaN                        NaN   \n",
       "mean                           34.75000                   8.724576   \n",
       "std                            61.75687                  29.175732   \n",
       "min                             0.00000                   0.000000   \n",
       "25%                            10.00000                   0.000000   \n",
       "50%                            20.00000                   0.000000   \n",
       "75%                            36.00000                   5.000000   \n",
       "max                           632.00000                 360.000000   \n",
       "\n",
       "        Recipient avg daily view duration (secs)  Recipient viewers  \\\n",
       "count                                 456.000000         472.000000   \n",
       "unique                                       NaN                NaN   \n",
       "top                                          NaN                NaN   \n",
       "freq                                         NaN                NaN   \n",
       "mean                                  142.467105           2.442797   \n",
       "std                                   582.973800           7.771205   \n",
       "min                                     0.000000           0.000000   \n",
       "25%                                     0.000000           0.000000   \n",
       "50%                                     0.000000           0.000000   \n",
       "75%                                    59.500000           2.000000   \n",
       "max                                  9618.000000          80.000000   \n",
       "\n",
       "        Recipient avg view duration (secs)      Shares  Social shares  \n",
       "count                           456.000000  472.000000     472.000000  \n",
       "unique                                 NaN         NaN            NaN  \n",
       "top                                    NaN         NaN            NaN  \n",
       "freq                                   NaN         NaN            NaN  \n",
       "mean                             35.111842    5.398305       1.233051  \n",
       "std                             111.747530   19.931471       4.724325  \n",
       "min                               0.000000    0.000000       0.000000  \n",
       "25%                               0.000000    0.000000       0.000000  \n",
       "50%                               0.000000    1.000000       0.000000  \n",
       "75%                              22.000000    4.000000       1.000000  \n",
       "max                            1132.000000  264.000000      73.000000  "
      ]
     },
     "execution_count": 11,
     "metadata": {},
     "output_type": "execute_result"
    }
   ],
   "source": [
    "top_mkt.describe(include='all')"
   ]
  },
  {
   "cell_type": "markdown",
   "metadata": {},
   "source": [
    "## Variable Exploration "
   ]
  },
  {
   "cell_type": "code",
   "execution_count": 12,
   "metadata": {},
   "outputs": [],
   "source": [
    "## Function that takes dataframe group by each categorical column/variable\n",
    "## Output a table shows grouping numbers by different levels and a bar chart to visualize\n",
    "\n",
    "def exploration(data, variable):\n",
    "    lst = data.groupby(by=variable).count()\n",
    "    lst = lst['id']\n",
    "    print(lst)\n",
    "    lst.plot.bar()  "
   ]
  },
  {
   "cell_type": "code",
   "execution_count": 13,
   "metadata": {},
   "outputs": [
    {
     "name": "stdout",
     "output_type": "stream",
     "text": [
      "likes\n",
      "0    784\n",
      "1     73\n",
      "2     12\n",
      "3      3\n",
      "4      3\n",
      "5      1\n",
      "7      2\n",
      "Name: id, dtype: int64\n"
     ]
    },
    {
     "data": {
      "image/png": "[encoded data removed]",
      "text/plain": [
       "<Figure size 432x288 with 1 Axes>"
      ]
     },
     "metadata": {
      "needs_background": "light"
     },
     "output_type": "display_data"
    }
   ],
   "source": [
    "c_like = exploration(mkt_lib,'likes')"
   ]
  },
  {
   "cell_type": "code",
   "execution_count": 14,
   "metadata": {},
   "outputs": [
    {
     "data": {
      "image/png": "[encoded data removed]",
      "text/plain": [
       "<Figure size 432x288 with 1 Axes>"
      ]
     },
     "metadata": {
      "needs_background": "light"
     },
     "output_type": "display_data"
    }
   ],
   "source": [
    "c_page_views = mkt_lib['(page)views'].plot.line()"
   ]
  },
  {
   "cell_type": "markdown",
   "metadata": {},
   "source": [
    "## Transformation"
   ]
  },
  {
   "cell_type": "markdown",
   "metadata": {},
   "source": [
    "- <b> user activity export</b>"
   ]
  },
  {
   "cell_type": "code",
   "execution_count": 15,
   "metadata": {},
   "outputs": [
    {
     "name": "stdout",
     "output_type": "stream",
     "text": [
      "shape of user activity(group by file name) is:  (655, 2)\n"
     ]
    },
    {
     "data": {
      "text/html": [
       "<div>\n",
       "<style scoped>\n",
       "    .dataframe tbody tr th:only-of-type {\n",
       "        vertical-align: middle;\n",
       "    }\n",
       "\n",
       "    .dataframe tbody tr th {\n",
       "        vertical-align: top;\n",
       "    }\n",
       "\n",
       "    .dataframe thead th {\n",
       "        text-align: right;\n",
       "    }\n",
       "</style>\n",
       "<table border=\"1\" class=\"dataframe\">\n",
       "  <thead>\n",
       "    <tr style=\"text-align: right;\">\n",
       "      <th></th>\n",
       "      <th>Number of File Views</th>\n",
       "      <th>Number of File Downloads</th>\n",
       "    </tr>\n",
       "    <tr>\n",
       "      <th>File Name</th>\n",
       "      <th></th>\n",
       "      <th></th>\n",
       "    </tr>\n",
       "  </thead>\n",
       "  <tbody>\n",
       "    <tr>\n",
       "      <th>1 Minute Testimonial.mp4</th>\n",
       "      <td>0.0</td>\n",
       "      <td>0.0</td>\n",
       "    </tr>\n",
       "    <tr>\n",
       "      <th>1. EF presentation Utrecht event.pdf</th>\n",
       "      <td>0.0</td>\n",
       "      <td>1.0</td>\n",
       "    </tr>\n",
       "    <tr>\n",
       "      <th>10 Users.pdf</th>\n",
       "      <td>14.0</td>\n",
       "      <td>0.0</td>\n",
       "    </tr>\n",
       "    <tr>\n",
       "      <th>20 Users.pdf</th>\n",
       "      <td>2.0</td>\n",
       "      <td>0.0</td>\n",
       "    </tr>\n",
       "    <tr>\n",
       "      <th>2019 Personas Overview - Personas.pdf</th>\n",
       "      <td>0.0</td>\n",
       "      <td>1.0</td>\n",
       "    </tr>\n",
       "  </tbody>\n",
       "</table>\n",
       "</div>"
      ],
      "text/plain": [
       "                                       Number of File Views  \\\n",
       "File Name                                                     \n",
       "1 Minute Testimonial.mp4                                0.0   \n",
       "1. EF presentation Utrecht event.pdf                    0.0   \n",
       "10 Users.pdf                                           14.0   \n",
       "20 Users.pdf                                            2.0   \n",
       "2019 Personas Overview - Personas.pdf                   0.0   \n",
       "\n",
       "                                       Number of File Downloads  \n",
       "File Name                                                        \n",
       "1 Minute Testimonial.mp4                                    0.0  \n",
       "1. EF presentation Utrecht event.pdf                        1.0  \n",
       "10 Users.pdf                                                0.0  \n",
       "20 Users.pdf                                                0.0  \n",
       "2019 Personas Overview - Personas.pdf                       1.0  "
      ]
     },
     "execution_count": 15,
     "metadata": {},
     "output_type": "execute_result"
    }
   ],
   "source": [
    "user_act_file = pd.DataFrame(user_act_copy.groupby(by='File Name').agg('sum'))\n",
    "\n",
    "print(\"shape of user activity(group by file name) is: \", user_act_file.shape)\n",
    "user_act_file.head()"
   ]
  },
  {
   "cell_type": "code",
   "execution_count": 16,
   "metadata": {},
   "outputs": [
    {
     "name": "stdout",
     "output_type": "stream",
     "text": [
      "shape of last activity date is:  (655, 1)\n"
     ]
    },
    {
     "data": {
      "text/html": [
       "<div>\n",
       "<style scoped>\n",
       "    .dataframe tbody tr th:only-of-type {\n",
       "        vertical-align: middle;\n",
       "    }\n",
       "\n",
       "    .dataframe tbody tr th {\n",
       "        vertical-align: top;\n",
       "    }\n",
       "\n",
       "    .dataframe thead th {\n",
       "        text-align: right;\n",
       "    }\n",
       "</style>\n",
       "<table border=\"1\" class=\"dataframe\">\n",
       "  <thead>\n",
       "    <tr style=\"text-align: right;\">\n",
       "      <th></th>\n",
       "      <th>Date</th>\n",
       "    </tr>\n",
       "    <tr>\n",
       "      <th>File Name</th>\n",
       "      <th></th>\n",
       "    </tr>\n",
       "  </thead>\n",
       "  <tbody>\n",
       "    <tr>\n",
       "      <th>1 Minute Testimonial.mp4</th>\n",
       "      <td>2019-06-19 06:26:17-07:00</td>\n",
       "    </tr>\n",
       "    <tr>\n",
       "      <th>1. EF presentation Utrecht event.pdf</th>\n",
       "      <td>2019-06-25 06:19:34-07:00</td>\n",
       "    </tr>\n",
       "    <tr>\n",
       "      <th>10 Users.pdf</th>\n",
       "      <td>2019-06-17 15:37:22-07:00</td>\n",
       "    </tr>\n",
       "    <tr>\n",
       "      <th>20 Users.pdf</th>\n",
       "      <td>2019-06-17 15:37:22-07:00</td>\n",
       "    </tr>\n",
       "    <tr>\n",
       "      <th>2019 Personas Overview - Personas.pdf</th>\n",
       "      <td>2019-06-25 06:19:34-07:00</td>\n",
       "    </tr>\n",
       "  </tbody>\n",
       "</table>\n",
       "</div>"
      ],
      "text/plain": [
       "                                                            Date\n",
       "File Name                                                       \n",
       "1 Minute Testimonial.mp4               2019-06-19 06:26:17-07:00\n",
       "1. EF presentation Utrecht event.pdf   2019-06-25 06:19:34-07:00\n",
       "10 Users.pdf                           2019-06-17 15:37:22-07:00\n",
       "20 Users.pdf                           2019-06-17 15:37:22-07:00\n",
       "2019 Personas Overview - Personas.pdf  2019-06-25 06:19:34-07:00"
      ]
     },
     "execution_count": 16,
     "metadata": {},
     "output_type": "execute_result"
    }
   ],
   "source": [
    "date_last_activity = user_act_copy[['File Name','Date']].drop_duplicates().groupby(by='File Name').max()\n",
    "\n",
    "print(\"shape of last activity date is: \", date_last_activity.shape)\n",
    "date_last_activity.head()"
   ]
  },
  {
   "cell_type": "code",
   "execution_count": 17,
   "metadata": {},
   "outputs": [
    {
     "data": {
      "text/html": [
       "<div>\n",
       "<style scoped>\n",
       "    .dataframe tbody tr th:only-of-type {\n",
       "        vertical-align: middle;\n",
       "    }\n",
       "\n",
       "    .dataframe tbody tr th {\n",
       "        vertical-align: top;\n",
       "    }\n",
       "\n",
       "    .dataframe thead th {\n",
       "        text-align: right;\n",
       "    }\n",
       "</style>\n",
       "<table border=\"1\" class=\"dataframe\">\n",
       "  <thead>\n",
       "    <tr style=\"text-align: right;\">\n",
       "      <th></th>\n",
       "      <th>Number of File Views</th>\n",
       "      <th>Number of File Downloads</th>\n",
       "      <th>Date</th>\n",
       "    </tr>\n",
       "    <tr>\n",
       "      <th>File Name</th>\n",
       "      <th></th>\n",
       "      <th></th>\n",
       "      <th></th>\n",
       "    </tr>\n",
       "  </thead>\n",
       "  <tbody>\n",
       "    <tr>\n",
       "      <th>1 Minute Testimonial.mp4</th>\n",
       "      <td>0.0</td>\n",
       "      <td>0.0</td>\n",
       "      <td>2019-06-19 06:26:17-07:00</td>\n",
       "    </tr>\n",
       "    <tr>\n",
       "      <th>1. EF presentation Utrecht event.pdf</th>\n",
       "      <td>0.0</td>\n",
       "      <td>1.0</td>\n",
       "      <td>2019-06-25 06:19:34-07:00</td>\n",
       "    </tr>\n",
       "    <tr>\n",
       "      <th>10 Users.pdf</th>\n",
       "      <td>14.0</td>\n",
       "      <td>0.0</td>\n",
       "      <td>2019-06-17 15:37:22-07:00</td>\n",
       "    </tr>\n",
       "    <tr>\n",
       "      <th>20 Users.pdf</th>\n",
       "      <td>2.0</td>\n",
       "      <td>0.0</td>\n",
       "      <td>2019-06-17 15:37:22-07:00</td>\n",
       "    </tr>\n",
       "    <tr>\n",
       "      <th>2019 Personas Overview - Personas.pdf</th>\n",
       "      <td>0.0</td>\n",
       "      <td>1.0</td>\n",
       "      <td>2019-06-25 06:19:34-07:00</td>\n",
       "    </tr>\n",
       "  </tbody>\n",
       "</table>\n",
       "</div>"
      ],
      "text/plain": [
       "                                       Number of File Views  \\\n",
       "File Name                                                     \n",
       "1 Minute Testimonial.mp4                                0.0   \n",
       "1. EF presentation Utrecht event.pdf                    0.0   \n",
       "10 Users.pdf                                           14.0   \n",
       "20 Users.pdf                                            2.0   \n",
       "2019 Personas Overview - Personas.pdf                   0.0   \n",
       "\n",
       "                                       Number of File Downloads  \\\n",
       "File Name                                                         \n",
       "1 Minute Testimonial.mp4                                    0.0   \n",
       "1. EF presentation Utrecht event.pdf                        1.0   \n",
       "10 Users.pdf                                                0.0   \n",
       "20 Users.pdf                                                0.0   \n",
       "2019 Personas Overview - Personas.pdf                       1.0   \n",
       "\n",
       "                                                            Date  \n",
       "File Name                                                         \n",
       "1 Minute Testimonial.mp4               2019-06-19 06:26:17-07:00  \n",
       "1. EF presentation Utrecht event.pdf   2019-06-25 06:19:34-07:00  \n",
       "10 Users.pdf                           2019-06-17 15:37:22-07:00  \n",
       "20 Users.pdf                           2019-06-17 15:37:22-07:00  \n",
       "2019 Personas Overview - Personas.pdf  2019-06-25 06:19:34-07:00  "
      ]
     },
     "execution_count": 17,
     "metadata": {},
     "output_type": "execute_result"
    }
   ],
   "source": [
    "recent_engagement = pd.concat([user_act_file, date_last_activity], axis=1)\n",
    "recent_engagement.head()"
   ]
  },
  {
   "cell_type": "markdown",
   "metadata": {},
   "source": [
    "- <b> library marketing content export</b>"
   ]
  },
  {
   "cell_type": "code",
   "execution_count": 18,
   "metadata": {},
   "outputs": [
    {
     "name": "stdout",
     "output_type": "stream",
     "text": [
      "shape of marketing library content(group by asset name) is:  (865, 6)\n"
     ]
    },
    {
     "data": {
      "text/html": [
       "<div>\n",
       "<style scoped>\n",
       "    .dataframe tbody tr th:only-of-type {\n",
       "        vertical-align: middle;\n",
       "    }\n",
       "\n",
       "    .dataframe tbody tr th {\n",
       "        vertical-align: top;\n",
       "    }\n",
       "\n",
       "    .dataframe thead th {\n",
       "        text-align: right;\n",
       "    }\n",
       "</style>\n",
       "<table border=\"1\" class=\"dataframe\">\n",
       "  <thead>\n",
       "    <tr style=\"text-align: right;\">\n",
       "      <th></th>\n",
       "      <th>size</th>\n",
       "      <th>annotatable</th>\n",
       "      <th>confidential</th>\n",
       "      <th>shareable</th>\n",
       "      <th>(page)views</th>\n",
       "      <th>likes</th>\n",
       "    </tr>\n",
       "    <tr>\n",
       "      <th>asset name</th>\n",
       "      <th></th>\n",
       "      <th></th>\n",
       "      <th></th>\n",
       "      <th></th>\n",
       "      <th></th>\n",
       "      <th></th>\n",
       "    </tr>\n",
       "  </thead>\n",
       "  <tbody>\n",
       "    <tr>\n",
       "      <th>*Risk Exposure Calculator in $*.zip</th>\n",
       "      <td>9177597.0</td>\n",
       "      <td>0</td>\n",
       "      <td>0</td>\n",
       "      <td>1</td>\n",
       "      <td>5</td>\n",
       "      <td>0</td>\n",
       "    </tr>\n",
       "    <tr>\n",
       "      <th>1 Minute Testimonial.mp4</th>\n",
       "      <td>3846739.0</td>\n",
       "      <td>0</td>\n",
       "      <td>0</td>\n",
       "      <td>1</td>\n",
       "      <td>890</td>\n",
       "      <td>0</td>\n",
       "    </tr>\n",
       "    <tr>\n",
       "      <th>2. Find, Present, Share Content.mov</th>\n",
       "      <td>452135348.0</td>\n",
       "      <td>0</td>\n",
       "      <td>0</td>\n",
       "      <td>1</td>\n",
       "      <td>3</td>\n",
       "      <td>0</td>\n",
       "    </tr>\n",
       "    <tr>\n",
       "      <th>2016 CSO Insight Report - Summary.pdf</th>\n",
       "      <td>1400333.0</td>\n",
       "      <td>1</td>\n",
       "      <td>0</td>\n",
       "      <td>1</td>\n",
       "      <td>969</td>\n",
       "      <td>1</td>\n",
       "    </tr>\n",
       "    <tr>\n",
       "      <th>2016 State of Sales Enablement Infographic.pdf</th>\n",
       "      <td>314100.0</td>\n",
       "      <td>1</td>\n",
       "      <td>0</td>\n",
       "      <td>1</td>\n",
       "      <td>420</td>\n",
       "      <td>1</td>\n",
       "    </tr>\n",
       "  </tbody>\n",
       "</table>\n",
       "</div>"
      ],
      "text/plain": [
       "                                                       size  annotatable  \\\n",
       "asset name                                                                 \n",
       "*Risk Exposure Calculator in $*.zip               9177597.0            0   \n",
       "1 Minute Testimonial.mp4                          3846739.0            0   \n",
       "2. Find, Present, Share Content.mov             452135348.0            0   \n",
       "2016 CSO Insight Report - Summary.pdf             1400333.0            1   \n",
       "2016 State of Sales Enablement Infographic.pdf     314100.0            1   \n",
       "\n",
       "                                                confidential  shareable  \\\n",
       "asset name                                                                \n",
       "*Risk Exposure Calculator in $*.zip                        0          1   \n",
       "1 Minute Testimonial.mp4                                   0          1   \n",
       "2. Find, Present, Share Content.mov                        0          1   \n",
       "2016 CSO Insight Report - Summary.pdf                      0          1   \n",
       "2016 State of Sales Enablement Infographic.pdf             0          1   \n",
       "\n",
       "                                                (page)views  likes  \n",
       "asset name                                                          \n",
       "*Risk Exposure Calculator in $*.zip                       5      0  \n",
       "1 Minute Testimonial.mp4                                890      0  \n",
       "2. Find, Present, Share Content.mov                       3      0  \n",
       "2016 CSO Insight Report - Summary.pdf                   969      1  \n",
       "2016 State of Sales Enablement Infographic.pdf          420      1  "
      ]
     },
     "execution_count": 18,
     "metadata": {},
     "output_type": "execute_result"
    }
   ],
   "source": [
    "mkt_lib_file = pd.DataFrame(mkt_lib.groupby(by='asset name').sum())\n",
    "\n",
    "print(\"shape of marketing library content(group by asset name) is: \", mkt_lib_file.shape)\n",
    "mkt_lib_file.head()"
   ]
  },
  {
   "cell_type": "code",
   "execution_count": 19,
   "metadata": {},
   "outputs": [],
   "source": [
    "mkt_lib_file_copy = mkt_lib_file[['(page)views', 'likes']]\n",
    "#mkt_lib_file_copy"
   ]
  },
  {
   "cell_type": "code",
   "execution_count": 20,
   "metadata": {},
   "outputs": [
    {
     "name": "stdout",
     "output_type": "stream",
     "text": [
      "shape of created date is:  (865, 1)\n"
     ]
    },
    {
     "data": {
      "text/html": [
       "<div>\n",
       "<style scoped>\n",
       "    .dataframe tbody tr th:only-of-type {\n",
       "        vertical-align: middle;\n",
       "    }\n",
       "\n",
       "    .dataframe tbody tr th {\n",
       "        vertical-align: top;\n",
       "    }\n",
       "\n",
       "    .dataframe thead th {\n",
       "        text-align: right;\n",
       "    }\n",
       "</style>\n",
       "<table border=\"1\" class=\"dataframe\">\n",
       "  <thead>\n",
       "    <tr style=\"text-align: right;\">\n",
       "      <th></th>\n",
       "      <th>uploaded date</th>\n",
       "    </tr>\n",
       "    <tr>\n",
       "      <th>asset name</th>\n",
       "      <th></th>\n",
       "    </tr>\n",
       "  </thead>\n",
       "  <tbody>\n",
       "    <tr>\n",
       "      <th>*Risk Exposure Calculator in $*.zip</th>\n",
       "      <td>2019-04-17 02:52:34</td>\n",
       "    </tr>\n",
       "    <tr>\n",
       "      <th>1 Minute Testimonial.mp4</th>\n",
       "      <td>2015-10-27 12:42:54</td>\n",
       "    </tr>\n",
       "    <tr>\n",
       "      <th>2. Find, Present, Share Content.mov</th>\n",
       "      <td>2018-03-15 17:56:29</td>\n",
       "    </tr>\n",
       "    <tr>\n",
       "      <th>2016 CSO Insight Report - Summary.pdf</th>\n",
       "      <td>2016-08-03 21:41:20</td>\n",
       "    </tr>\n",
       "    <tr>\n",
       "      <th>2016 State of Sales Enablement Infographic.pdf</th>\n",
       "      <td>2016-09-13 18:49:06</td>\n",
       "    </tr>\n",
       "  </tbody>\n",
       "</table>\n",
       "</div>"
      ],
      "text/plain": [
       "                                                     uploaded date\n",
       "asset name                                                        \n",
       "*Risk Exposure Calculator in $*.zip            2019-04-17 02:52:34\n",
       "1 Minute Testimonial.mp4                       2015-10-27 12:42:54\n",
       "2. Find, Present, Share Content.mov            2018-03-15 17:56:29\n",
       "2016 CSO Insight Report - Summary.pdf          2016-08-03 21:41:20\n",
       "2016 State of Sales Enablement Infographic.pdf 2016-09-13 18:49:06"
      ]
     },
     "execution_count": 20,
     "metadata": {},
     "output_type": "execute_result"
    }
   ],
   "source": [
    "date_created = mkt_lib[['asset name','uploaded date']].drop_duplicates().groupby(by='asset name').max()\n",
    "print(\"shape of created date is: \", date_created.shape)\n",
    "date_created.head()"
   ]
  },
  {
   "cell_type": "code",
   "execution_count": 21,
   "metadata": {},
   "outputs": [
    {
     "data": {
      "text/html": [
       "<div>\n",
       "<style scoped>\n",
       "    .dataframe tbody tr th:only-of-type {\n",
       "        vertical-align: middle;\n",
       "    }\n",
       "\n",
       "    .dataframe tbody tr th {\n",
       "        vertical-align: top;\n",
       "    }\n",
       "\n",
       "    .dataframe thead th {\n",
       "        text-align: right;\n",
       "    }\n",
       "</style>\n",
       "<table border=\"1\" class=\"dataframe\">\n",
       "  <thead>\n",
       "    <tr style=\"text-align: right;\">\n",
       "      <th></th>\n",
       "      <th>(page)views</th>\n",
       "      <th>likes</th>\n",
       "      <th>uploaded date</th>\n",
       "    </tr>\n",
       "    <tr>\n",
       "      <th>asset name</th>\n",
       "      <th></th>\n",
       "      <th></th>\n",
       "      <th></th>\n",
       "    </tr>\n",
       "  </thead>\n",
       "  <tbody>\n",
       "    <tr>\n",
       "      <th>*Risk Exposure Calculator in $*.zip</th>\n",
       "      <td>5</td>\n",
       "      <td>0</td>\n",
       "      <td>2019-04-17 02:52:34</td>\n",
       "    </tr>\n",
       "    <tr>\n",
       "      <th>1 Minute Testimonial.mp4</th>\n",
       "      <td>890</td>\n",
       "      <td>0</td>\n",
       "      <td>2015-10-27 12:42:54</td>\n",
       "    </tr>\n",
       "    <tr>\n",
       "      <th>2. Find, Present, Share Content.mov</th>\n",
       "      <td>3</td>\n",
       "      <td>0</td>\n",
       "      <td>2018-03-15 17:56:29</td>\n",
       "    </tr>\n",
       "    <tr>\n",
       "      <th>2016 CSO Insight Report - Summary.pdf</th>\n",
       "      <td>969</td>\n",
       "      <td>1</td>\n",
       "      <td>2016-08-03 21:41:20</td>\n",
       "    </tr>\n",
       "    <tr>\n",
       "      <th>2016 State of Sales Enablement Infographic.pdf</th>\n",
       "      <td>420</td>\n",
       "      <td>1</td>\n",
       "      <td>2016-09-13 18:49:06</td>\n",
       "    </tr>\n",
       "  </tbody>\n",
       "</table>\n",
       "</div>"
      ],
      "text/plain": [
       "                                                (page)views  likes  \\\n",
       "asset name                                                           \n",
       "*Risk Exposure Calculator in $*.zip                       5      0   \n",
       "1 Minute Testimonial.mp4                                890      0   \n",
       "2. Find, Present, Share Content.mov                       3      0   \n",
       "2016 CSO Insight Report - Summary.pdf                   969      1   \n",
       "2016 State of Sales Enablement Infographic.pdf          420      1   \n",
       "\n",
       "                                                     uploaded date  \n",
       "asset name                                                          \n",
       "*Risk Exposure Calculator in $*.zip            2019-04-17 02:52:34  \n",
       "1 Minute Testimonial.mp4                       2015-10-27 12:42:54  \n",
       "2. Find, Present, Share Content.mov            2018-03-15 17:56:29  \n",
       "2016 CSO Insight Report - Summary.pdf          2016-08-03 21:41:20  \n",
       "2016 State of Sales Enablement Infographic.pdf 2016-09-13 18:49:06  "
      ]
     },
     "execution_count": 21,
     "metadata": {},
     "output_type": "execute_result"
    }
   ],
   "source": [
    "lifetime_engagement = pd.concat([mkt_lib_file_copy, date_created], axis=1)\n",
    "lifetime_engagement.head()"
   ]
  },
  {
   "cell_type": "markdown",
   "metadata": {},
   "source": [
    "- <b> top content marketing export </b>"
   ]
  },
  {
   "cell_type": "code",
   "execution_count": 22,
   "metadata": {},
   "outputs": [
    {
     "name": "stdout",
     "output_type": "stream",
     "text": [
      "shape of top marketing content(group by asset name) is:  (471, 14)\n"
     ]
    },
    {
     "data": {
      "text/html": [
       "<div>\n",
       "<style scoped>\n",
       "    .dataframe tbody tr th:only-of-type {\n",
       "        vertical-align: middle;\n",
       "    }\n",
       "\n",
       "    .dataframe tbody tr th {\n",
       "        vertical-align: top;\n",
       "    }\n",
       "\n",
       "    .dataframe thead th {\n",
       "        text-align: right;\n",
       "    }\n",
       "</style>\n",
       "<table border=\"1\" class=\"dataframe\">\n",
       "  <thead>\n",
       "    <tr style=\"text-align: right;\">\n",
       "      <th></th>\n",
       "      <th>Owner id</th>\n",
       "      <th>Owner name</th>\n",
       "      <th>Deleted Asset</th>\n",
       "      <th>Edited Asset</th>\n",
       "      <th>In-app number of views</th>\n",
       "      <th>In-app avg daily view duration (secs)</th>\n",
       "      <th>In-app viewers</th>\n",
       "      <th>In-app avg view duration (secs)</th>\n",
       "      <th>Recipient number of views</th>\n",
       "      <th>Recipient avg daily view duration (secs)</th>\n",
       "      <th>Recipient viewers</th>\n",
       "      <th>Recipient avg view duration (secs)</th>\n",
       "      <th>Shares</th>\n",
       "      <th>Social shares</th>\n",
       "    </tr>\n",
       "    <tr>\n",
       "      <th>Display name</th>\n",
       "      <th></th>\n",
       "      <th></th>\n",
       "      <th></th>\n",
       "      <th></th>\n",
       "      <th></th>\n",
       "      <th></th>\n",
       "      <th></th>\n",
       "      <th></th>\n",
       "      <th></th>\n",
       "      <th></th>\n",
       "      <th></th>\n",
       "      <th></th>\n",
       "      <th></th>\n",
       "      <th></th>\n",
       "    </tr>\n",
       "  </thead>\n",
       "  <tbody>\n",
       "    <tr>\n",
       "      <th>1 Minute Testimonial.mp4</th>\n",
       "      <td>0.0</td>\n",
       "      <td>0.0</td>\n",
       "      <td>False</td>\n",
       "      <td>False</td>\n",
       "      <td>2</td>\n",
       "      <td>31.0</td>\n",
       "      <td>2</td>\n",
       "      <td>31.0</td>\n",
       "      <td>0</td>\n",
       "      <td>0.0</td>\n",
       "      <td>0</td>\n",
       "      <td>0.0</td>\n",
       "      <td>1</td>\n",
       "      <td>1</td>\n",
       "    </tr>\n",
       "    <tr>\n",
       "      <th>2019.03.OP.PS.Advanced Impact.pdf</th>\n",
       "      <td>0.0</td>\n",
       "      <td>0.0</td>\n",
       "      <td>False</td>\n",
       "      <td>False</td>\n",
       "      <td>0</td>\n",
       "      <td>0.0</td>\n",
       "      <td>0</td>\n",
       "      <td>0.0</td>\n",
       "      <td>6</td>\n",
       "      <td>546.0</td>\n",
       "      <td>1</td>\n",
       "      <td>91.0</td>\n",
       "      <td>0</td>\n",
       "      <td>0</td>\n",
       "    </tr>\n",
       "    <tr>\n",
       "      <th>2019.03.OP.PS.Guided Self Service.pdf</th>\n",
       "      <td>0.0</td>\n",
       "      <td>0.0</td>\n",
       "      <td>False</td>\n",
       "      <td>False</td>\n",
       "      <td>1</td>\n",
       "      <td>14.0</td>\n",
       "      <td>1</td>\n",
       "      <td>14.0</td>\n",
       "      <td>0</td>\n",
       "      <td>0.0</td>\n",
       "      <td>0</td>\n",
       "      <td>0.0</td>\n",
       "      <td>0</td>\n",
       "      <td>0</td>\n",
       "    </tr>\n",
       "    <tr>\n",
       "      <th>2019.05.OP.PS.Guided Self Onboarding.pdf</th>\n",
       "      <td>0.0</td>\n",
       "      <td>0.0</td>\n",
       "      <td>False</td>\n",
       "      <td>False</td>\n",
       "      <td>34</td>\n",
       "      <td>42.0</td>\n",
       "      <td>11</td>\n",
       "      <td>12.0</td>\n",
       "      <td>35</td>\n",
       "      <td>402.0</td>\n",
       "      <td>8</td>\n",
       "      <td>92.0</td>\n",
       "      <td>12</td>\n",
       "      <td>0</td>\n",
       "    </tr>\n",
       "    <tr>\n",
       "      <th>2019.05.OP.PS.Quick Start.Coach.pdf</th>\n",
       "      <td>0.0</td>\n",
       "      <td>0.0</td>\n",
       "      <td>False</td>\n",
       "      <td>False</td>\n",
       "      <td>22</td>\n",
       "      <td>74.0</td>\n",
       "      <td>11</td>\n",
       "      <td>37.0</td>\n",
       "      <td>29</td>\n",
       "      <td>76.0</td>\n",
       "      <td>6</td>\n",
       "      <td>13.0</td>\n",
       "      <td>15</td>\n",
       "      <td>0</td>\n",
       "    </tr>\n",
       "  </tbody>\n",
       "</table>\n",
       "</div>"
      ],
      "text/plain": [
       "                                          Owner id  Owner name  Deleted Asset  \\\n",
       "Display name                                                                    \n",
       "1 Minute Testimonial.mp4                       0.0         0.0          False   \n",
       "2019.03.OP.PS.Advanced Impact.pdf              0.0         0.0          False   \n",
       "2019.03.OP.PS.Guided Self Service.pdf          0.0         0.0          False   \n",
       "2019.05.OP.PS.Guided Self Onboarding.pdf       0.0         0.0          False   \n",
       "2019.05.OP.PS.Quick Start.Coach.pdf            0.0         0.0          False   \n",
       "\n",
       "                                          Edited Asset  \\\n",
       "Display name                                             \n",
       "1 Minute Testimonial.mp4                         False   \n",
       "2019.03.OP.PS.Advanced Impact.pdf                False   \n",
       "2019.03.OP.PS.Guided Self Service.pdf            False   \n",
       "2019.05.OP.PS.Guided Self Onboarding.pdf         False   \n",
       "2019.05.OP.PS.Quick Start.Coach.pdf              False   \n",
       "\n",
       "                                          In-app number of views  \\\n",
       "Display name                                                       \n",
       "1 Minute Testimonial.mp4                                       2   \n",
       "2019.03.OP.PS.Advanced Impact.pdf                              0   \n",
       "2019.03.OP.PS.Guided Self Service.pdf                          1   \n",
       "2019.05.OP.PS.Guided Self Onboarding.pdf                      34   \n",
       "2019.05.OP.PS.Quick Start.Coach.pdf                           22   \n",
       "\n",
       "                                          In-app avg daily view duration (secs)  \\\n",
       "Display name                                                                      \n",
       "1 Minute Testimonial.mp4                                                   31.0   \n",
       "2019.03.OP.PS.Advanced Impact.pdf                                           0.0   \n",
       "2019.03.OP.PS.Guided Self Service.pdf                                      14.0   \n",
       "2019.05.OP.PS.Guided Self Onboarding.pdf                                   42.0   \n",
       "2019.05.OP.PS.Quick Start.Coach.pdf                                        74.0   \n",
       "\n",
       "                                          In-app viewers  \\\n",
       "Display name                                               \n",
       "1 Minute Testimonial.mp4                               2   \n",
       "2019.03.OP.PS.Advanced Impact.pdf                      0   \n",
       "2019.03.OP.PS.Guided Self Service.pdf                  1   \n",
       "2019.05.OP.PS.Guided Self Onboarding.pdf              11   \n",
       "2019.05.OP.PS.Quick Start.Coach.pdf                   11   \n",
       "\n",
       "                                          In-app avg view duration (secs)  \\\n",
       "Display name                                                                \n",
       "1 Minute Testimonial.mp4                                             31.0   \n",
       "2019.03.OP.PS.Advanced Impact.pdf                                     0.0   \n",
       "2019.03.OP.PS.Guided Self Service.pdf                                14.0   \n",
       "2019.05.OP.PS.Guided Self Onboarding.pdf                             12.0   \n",
       "2019.05.OP.PS.Quick Start.Coach.pdf                                  37.0   \n",
       "\n",
       "                                          Recipient number of views  \\\n",
       "Display name                                                          \n",
       "1 Minute Testimonial.mp4                                          0   \n",
       "2019.03.OP.PS.Advanced Impact.pdf                                 6   \n",
       "2019.03.OP.PS.Guided Self Service.pdf                             0   \n",
       "2019.05.OP.PS.Guided Self Onboarding.pdf                         35   \n",
       "2019.05.OP.PS.Quick Start.Coach.pdf                              29   \n",
       "\n",
       "                                          Recipient avg daily view duration (secs)  \\\n",
       "Display name                                                                         \n",
       "1 Minute Testimonial.mp4                                                       0.0   \n",
       "2019.03.OP.PS.Advanced Impact.pdf                                            546.0   \n",
       "2019.03.OP.PS.Guided Self Service.pdf                                          0.0   \n",
       "2019.05.OP.PS.Guided Self Onboarding.pdf                                     402.0   \n",
       "2019.05.OP.PS.Quick Start.Coach.pdf                                           76.0   \n",
       "\n",
       "                                          Recipient viewers  \\\n",
       "Display name                                                  \n",
       "1 Minute Testimonial.mp4                                  0   \n",
       "2019.03.OP.PS.Advanced Impact.pdf                         1   \n",
       "2019.03.OP.PS.Guided Self Service.pdf                     0   \n",
       "2019.05.OP.PS.Guided Self Onboarding.pdf                  8   \n",
       "2019.05.OP.PS.Quick Start.Coach.pdf                       6   \n",
       "\n",
       "                                          Recipient avg view duration (secs)  \\\n",
       "Display name                                                                   \n",
       "1 Minute Testimonial.mp4                                                 0.0   \n",
       "2019.03.OP.PS.Advanced Impact.pdf                                       91.0   \n",
       "2019.03.OP.PS.Guided Self Service.pdf                                    0.0   \n",
       "2019.05.OP.PS.Guided Self Onboarding.pdf                                92.0   \n",
       "2019.05.OP.PS.Quick Start.Coach.pdf                                     13.0   \n",
       "\n",
       "                                          Shares  Social shares  \n",
       "Display name                                                     \n",
       "1 Minute Testimonial.mp4                       1              1  \n",
       "2019.03.OP.PS.Advanced Impact.pdf              0              0  \n",
       "2019.03.OP.PS.Guided Self Service.pdf          0              0  \n",
       "2019.05.OP.PS.Guided Self Onboarding.pdf      12              0  \n",
       "2019.05.OP.PS.Quick Start.Coach.pdf           15              0  "
      ]
     },
     "execution_count": 22,
     "metadata": {},
     "output_type": "execute_result"
    }
   ],
   "source": [
    "top_mkt_file = pd.DataFrame(top_mkt.groupby(by='Display name').sum())\n",
    "\n",
    "print(\"shape of top marketing content(group by asset name) is: \", top_mkt_file.shape)\n",
    "top_mkt_file.head()"
   ]
  },
  {
   "cell_type": "code",
   "execution_count": 23,
   "metadata": {},
   "outputs": [
    {
     "data": {
      "text/html": [
       "<div>\n",
       "<style scoped>\n",
       "    .dataframe tbody tr th:only-of-type {\n",
       "        vertical-align: middle;\n",
       "    }\n",
       "\n",
       "    .dataframe tbody tr th {\n",
       "        vertical-align: top;\n",
       "    }\n",
       "\n",
       "    .dataframe thead th {\n",
       "        text-align: right;\n",
       "    }\n",
       "</style>\n",
       "<table border=\"1\" class=\"dataframe\">\n",
       "  <thead>\n",
       "    <tr style=\"text-align: right;\">\n",
       "      <th></th>\n",
       "      <th>Shares</th>\n",
       "      <th>Social shares</th>\n",
       "    </tr>\n",
       "    <tr>\n",
       "      <th>Display name</th>\n",
       "      <th></th>\n",
       "      <th></th>\n",
       "    </tr>\n",
       "  </thead>\n",
       "  <tbody>\n",
       "    <tr>\n",
       "      <th>1 Minute Testimonial.mp4</th>\n",
       "      <td>1</td>\n",
       "      <td>1</td>\n",
       "    </tr>\n",
       "    <tr>\n",
       "      <th>2019.03.OP.PS.Advanced Impact.pdf</th>\n",
       "      <td>0</td>\n",
       "      <td>0</td>\n",
       "    </tr>\n",
       "    <tr>\n",
       "      <th>2019.03.OP.PS.Guided Self Service.pdf</th>\n",
       "      <td>0</td>\n",
       "      <td>0</td>\n",
       "    </tr>\n",
       "    <tr>\n",
       "      <th>2019.05.OP.PS.Guided Self Onboarding.pdf</th>\n",
       "      <td>12</td>\n",
       "      <td>0</td>\n",
       "    </tr>\n",
       "    <tr>\n",
       "      <th>2019.05.OP.PS.Quick Start.Coach.pdf</th>\n",
       "      <td>15</td>\n",
       "      <td>0</td>\n",
       "    </tr>\n",
       "  </tbody>\n",
       "</table>\n",
       "</div>"
      ],
      "text/plain": [
       "                                          Shares  Social shares\n",
       "Display name                                                   \n",
       "1 Minute Testimonial.mp4                       1              1\n",
       "2019.03.OP.PS.Advanced Impact.pdf              0              0\n",
       "2019.03.OP.PS.Guided Self Service.pdf          0              0\n",
       "2019.05.OP.PS.Guided Self Onboarding.pdf      12              0\n",
       "2019.05.OP.PS.Quick Start.Coach.pdf           15              0"
      ]
     },
     "execution_count": 23,
     "metadata": {},
     "output_type": "execute_result"
    }
   ],
   "source": [
    "top_mkt_copy = top_mkt_file[['Shares', 'Social shares']]\n",
    "top_mkt_copy.head()"
   ]
  },
  {
   "cell_type": "markdown",
   "metadata": {},
   "source": [
    "- <b> combine three asset files </b>"
   ]
  },
  {
   "cell_type": "code",
   "execution_count": 24,
   "metadata": {},
   "outputs": [
    {
     "name": "stderr",
     "output_type": "stream",
     "text": [
      "/anaconda3/lib/python3.7/site-packages/ipykernel_launcher.py:1: FutureWarning: Sorting because non-concatenation axis is not aligned. A future version\n",
      "of pandas will change to not sort by default.\n",
      "\n",
      "To accept the future behavior, pass 'sort=False'.\n",
      "\n",
      "To retain the current behavior and silence the warning, pass 'sort=True'.\n",
      "\n",
      "  \"\"\"Entry point for launching an IPython kernel.\n"
     ]
    }
   ],
   "source": [
    "combined = pd.concat([recent_engagement, lifetime_engagement, top_mkt_copy], axis=1)\n",
    "combined = combined.reset_index()"
   ]
  },
  {
   "cell_type": "code",
   "execution_count": 25,
   "metadata": {},
   "outputs": [
    {
     "data": {
      "text/html": [
       "<div>\n",
       "<style scoped>\n",
       "    .dataframe tbody tr th:only-of-type {\n",
       "        vertical-align: middle;\n",
       "    }\n",
       "\n",
       "    .dataframe tbody tr th {\n",
       "        vertical-align: top;\n",
       "    }\n",
       "\n",
       "    .dataframe thead th {\n",
       "        text-align: right;\n",
       "    }\n",
       "</style>\n",
       "<table border=\"1\" class=\"dataframe\">\n",
       "  <thead>\n",
       "    <tr style=\"text-align: right;\">\n",
       "      <th></th>\n",
       "      <th>index</th>\n",
       "      <th>Number of File Views</th>\n",
       "      <th>Number of File Downloads</th>\n",
       "      <th>Date</th>\n",
       "      <th>(page)views</th>\n",
       "      <th>likes</th>\n",
       "      <th>uploaded date</th>\n",
       "      <th>Shares</th>\n",
       "      <th>Social shares</th>\n",
       "    </tr>\n",
       "  </thead>\n",
       "  <tbody>\n",
       "    <tr>\n",
       "      <th>0</th>\n",
       "      <td>*Risk Exposure Calculator in $*.zip</td>\n",
       "      <td>NaN</td>\n",
       "      <td>NaN</td>\n",
       "      <td>NaN</td>\n",
       "      <td>5.0</td>\n",
       "      <td>0.0</td>\n",
       "      <td>2019-04-17 02:52:34</td>\n",
       "      <td>NaN</td>\n",
       "      <td>NaN</td>\n",
       "    </tr>\n",
       "    <tr>\n",
       "      <th>1</th>\n",
       "      <td>1 Minute Testimonial.mp4</td>\n",
       "      <td>0.0</td>\n",
       "      <td>0.0</td>\n",
       "      <td>2019-06-19 06:26:17-07:00</td>\n",
       "      <td>890.0</td>\n",
       "      <td>0.0</td>\n",
       "      <td>2015-10-27 12:42:54</td>\n",
       "      <td>1.0</td>\n",
       "      <td>1.0</td>\n",
       "    </tr>\n",
       "    <tr>\n",
       "      <th>2</th>\n",
       "      <td>1. EF presentation Utrecht event.pdf</td>\n",
       "      <td>0.0</td>\n",
       "      <td>1.0</td>\n",
       "      <td>2019-06-25 06:19:34-07:00</td>\n",
       "      <td>NaN</td>\n",
       "      <td>NaN</td>\n",
       "      <td>NaT</td>\n",
       "      <td>NaN</td>\n",
       "      <td>NaN</td>\n",
       "    </tr>\n",
       "    <tr>\n",
       "      <th>3</th>\n",
       "      <td>10 Users.pdf</td>\n",
       "      <td>14.0</td>\n",
       "      <td>0.0</td>\n",
       "      <td>2019-06-17 15:37:22-07:00</td>\n",
       "      <td>NaN</td>\n",
       "      <td>NaN</td>\n",
       "      <td>NaT</td>\n",
       "      <td>NaN</td>\n",
       "      <td>NaN</td>\n",
       "    </tr>\n",
       "    <tr>\n",
       "      <th>4</th>\n",
       "      <td>2. Find, Present, Share Content.mov</td>\n",
       "      <td>NaN</td>\n",
       "      <td>NaN</td>\n",
       "      <td>NaN</td>\n",
       "      <td>3.0</td>\n",
       "      <td>0.0</td>\n",
       "      <td>2018-03-15 17:56:29</td>\n",
       "      <td>NaN</td>\n",
       "      <td>NaN</td>\n",
       "    </tr>\n",
       "  </tbody>\n",
       "</table>\n",
       "</div>"
      ],
      "text/plain": [
       "                                  index  Number of File Views  \\\n",
       "0   *Risk Exposure Calculator in $*.zip                   NaN   \n",
       "1              1 Minute Testimonial.mp4                   0.0   \n",
       "2  1. EF presentation Utrecht event.pdf                   0.0   \n",
       "3                          10 Users.pdf                  14.0   \n",
       "4   2. Find, Present, Share Content.mov                   NaN   \n",
       "\n",
       "   Number of File Downloads                       Date  (page)views  likes  \\\n",
       "0                       NaN                        NaN          5.0    0.0   \n",
       "1                       0.0  2019-06-19 06:26:17-07:00        890.0    0.0   \n",
       "2                       1.0  2019-06-25 06:19:34-07:00          NaN    NaN   \n",
       "3                       0.0  2019-06-17 15:37:22-07:00          NaN    NaN   \n",
       "4                       NaN                        NaN          3.0    0.0   \n",
       "\n",
       "        uploaded date  Shares  Social shares  \n",
       "0 2019-04-17 02:52:34     NaN            NaN  \n",
       "1 2015-10-27 12:42:54     1.0            1.0  \n",
       "2                 NaT     NaN            NaN  \n",
       "3                 NaT     NaN            NaN  \n",
       "4 2018-03-15 17:56:29     NaN            NaN  "
      ]
     },
     "execution_count": 25,
     "metadata": {},
     "output_type": "execute_result"
    }
   ],
   "source": [
    "combined.head()"
   ]
  },
  {
   "cell_type": "markdown",
   "metadata": {},
   "source": [
    "- <b> parse file type out of asset name </b>"
   ]
  },
  {
   "cell_type": "code",
   "execution_count": 26,
   "metadata": {},
   "outputs": [],
   "source": [
    "asset = pd.Series(np.array(combined['index']))\n",
    "asset = asset.str.split(pat=\".\")"
   ]
  },
  {
   "cell_type": "code",
   "execution_count": 27,
   "metadata": {},
   "outputs": [],
   "source": [
    "## Extract the last string of content name for asset\n",
    "file_type = [asset[i][-1] for i in range(len(asset))]\n",
    "combined['file_type'] = file_type"
   ]
  },
  {
   "cell_type": "code",
   "execution_count": 28,
   "metadata": {},
   "outputs": [],
   "source": [
    "combined = combined.rename(index=str, columns={\"index\": \"asset_name\", \"uploaded date\": \"date_created\", \n",
    "                                               \"Date\": \"date_last_activity\"})\n",
    "## Change order of columns\n",
    "combined = combined[['asset_name', 'file_type', 'date_created', 'date_last_activity', 'Number of File Views', \n",
    "                     'Number of File Downloads', '(page)views','likes', 'Shares', 'Social shares']]\n",
    "\n",
    "## Change name of columns\n",
    "combined.columns = ['asset_name', 'file_type', 'date_created', 'date_last_activity', 'views_recent', 'downloads_recent', \n",
    "                    'views_lifetime', 'likes_lifetime', 'shares', 'social_shares']"
   ]
  },
  {
   "cell_type": "code",
   "execution_count": 29,
   "metadata": {},
   "outputs": [
    {
     "data": {
      "text/html": [
       "<div>\n",
       "<style scoped>\n",
       "    .dataframe tbody tr th:only-of-type {\n",
       "        vertical-align: middle;\n",
       "    }\n",
       "\n",
       "    .dataframe tbody tr th {\n",
       "        vertical-align: top;\n",
       "    }\n",
       "\n",
       "    .dataframe thead th {\n",
       "        text-align: right;\n",
       "    }\n",
       "</style>\n",
       "<table border=\"1\" class=\"dataframe\">\n",
       "  <thead>\n",
       "    <tr style=\"text-align: right;\">\n",
       "      <th></th>\n",
       "      <th>asset_name</th>\n",
       "      <th>file_type</th>\n",
       "      <th>date_created</th>\n",
       "      <th>date_last_activity</th>\n",
       "      <th>views_recent</th>\n",
       "      <th>downloads_recent</th>\n",
       "      <th>views_lifetime</th>\n",
       "      <th>likes_lifetime</th>\n",
       "      <th>shares</th>\n",
       "      <th>social_shares</th>\n",
       "    </tr>\n",
       "  </thead>\n",
       "  <tbody>\n",
       "    <tr>\n",
       "      <th>0</th>\n",
       "      <td>*Risk Exposure Calculator in $*.zip</td>\n",
       "      <td>zip</td>\n",
       "      <td>2019-04-17 02:52:34</td>\n",
       "      <td>NaN</td>\n",
       "      <td>NaN</td>\n",
       "      <td>NaN</td>\n",
       "      <td>5.0</td>\n",
       "      <td>0.0</td>\n",
       "      <td>NaN</td>\n",
       "      <td>NaN</td>\n",
       "    </tr>\n",
       "    <tr>\n",
       "      <th>1</th>\n",
       "      <td>1 Minute Testimonial.mp4</td>\n",
       "      <td>mp4</td>\n",
       "      <td>2015-10-27 12:42:54</td>\n",
       "      <td>2019-06-19 06:26:17-07:00</td>\n",
       "      <td>0.0</td>\n",
       "      <td>0.0</td>\n",
       "      <td>890.0</td>\n",
       "      <td>0.0</td>\n",
       "      <td>1.0</td>\n",
       "      <td>1.0</td>\n",
       "    </tr>\n",
       "    <tr>\n",
       "      <th>2</th>\n",
       "      <td>1. EF presentation Utrecht event.pdf</td>\n",
       "      <td>pdf</td>\n",
       "      <td>NaT</td>\n",
       "      <td>2019-06-25 06:19:34-07:00</td>\n",
       "      <td>0.0</td>\n",
       "      <td>1.0</td>\n",
       "      <td>NaN</td>\n",
       "      <td>NaN</td>\n",
       "      <td>NaN</td>\n",
       "      <td>NaN</td>\n",
       "    </tr>\n",
       "    <tr>\n",
       "      <th>3</th>\n",
       "      <td>10 Users.pdf</td>\n",
       "      <td>pdf</td>\n",
       "      <td>NaT</td>\n",
       "      <td>2019-06-17 15:37:22-07:00</td>\n",
       "      <td>14.0</td>\n",
       "      <td>0.0</td>\n",
       "      <td>NaN</td>\n",
       "      <td>NaN</td>\n",
       "      <td>NaN</td>\n",
       "      <td>NaN</td>\n",
       "    </tr>\n",
       "    <tr>\n",
       "      <th>4</th>\n",
       "      <td>2. Find, Present, Share Content.mov</td>\n",
       "      <td>mov</td>\n",
       "      <td>2018-03-15 17:56:29</td>\n",
       "      <td>NaN</td>\n",
       "      <td>NaN</td>\n",
       "      <td>NaN</td>\n",
       "      <td>3.0</td>\n",
       "      <td>0.0</td>\n",
       "      <td>NaN</td>\n",
       "      <td>NaN</td>\n",
       "    </tr>\n",
       "  </tbody>\n",
       "</table>\n",
       "</div>"
      ],
      "text/plain": [
       "                             asset_name file_type        date_created  \\\n",
       "0   *Risk Exposure Calculator in $*.zip       zip 2019-04-17 02:52:34   \n",
       "1              1 Minute Testimonial.mp4       mp4 2015-10-27 12:42:54   \n",
       "2  1. EF presentation Utrecht event.pdf       pdf                 NaT   \n",
       "3                          10 Users.pdf       pdf                 NaT   \n",
       "4   2. Find, Present, Share Content.mov       mov 2018-03-15 17:56:29   \n",
       "\n",
       "          date_last_activity  views_recent  downloads_recent  views_lifetime  \\\n",
       "0                        NaN           NaN               NaN             5.0   \n",
       "1  2019-06-19 06:26:17-07:00           0.0               0.0           890.0   \n",
       "2  2019-06-25 06:19:34-07:00           0.0               1.0             NaN   \n",
       "3  2019-06-17 15:37:22-07:00          14.0               0.0             NaN   \n",
       "4                        NaN           NaN               NaN             3.0   \n",
       "\n",
       "   likes_lifetime  shares  social_shares  \n",
       "0             0.0     NaN            NaN  \n",
       "1             0.0     1.0            1.0  \n",
       "2             NaN     NaN            NaN  \n",
       "3             NaN     NaN            NaN  \n",
       "4             0.0     NaN            NaN  "
      ]
     },
     "execution_count": 29,
     "metadata": {},
     "output_type": "execute_result"
    }
   ],
   "source": [
    "combined.head()"
   ]
  },
  {
   "cell_type": "code",
   "execution_count": 30,
   "metadata": {},
   "outputs": [
    {
     "data": {
      "image/png": "[encoded data removed]",
      "text/plain": [
       "<Figure size 432x288 with 1 Axes>"
      ]
     },
     "metadata": {
      "needs_background": "light"
     },
     "output_type": "display_data"
    }
   ],
   "source": [
    "view_vs = sns.scatterplot(x='views_lifetime', y='views_recent', data=combined)"
   ]
  },
  {
   "cell_type": "markdown",
   "metadata": {},
   "source": [
    "- <b> create boolean variable indicating data scource</b>"
   ]
  },
  {
   "cell_type": "code",
   "execution_count": 31,
   "metadata": {},
   "outputs": [],
   "source": [
    "def create_boolean(data, variable):\n",
    "    boo = data[variable]\n",
    "    for i in range (len(boo)):\n",
    "        if pd.isnull(boo[i]):\n",
    "            boo[i] = '0'\n",
    "        else:\n",
    "            boo[i] = '1'\n",
    "    return boo       "
   ]
  },
  {
   "cell_type": "code",
   "execution_count": 32,
   "metadata": {},
   "outputs": [
    {
     "name": "stderr",
     "output_type": "stream",
     "text": [
      "/anaconda3/lib/python3.7/site-packages/ipykernel_launcher.py:3: SettingWithCopyWarning: \n",
      "A value is trying to be set on a copy of a slice from a DataFrame\n",
      "\n",
      "See the caveats in the documentation: http://pandas.pydata.org/pandas-docs/stable/indexing.html#indexing-view-versus-copy\n",
      "  This is separate from the ipykernel package so we can avoid doing imports until\n",
      "/anaconda3/lib/python3.7/site-packages/ipykernel_launcher.py:4: SettingWithCopyWarning: \n",
      "A value is trying to be set on a copy of a slice from a DataFrame\n",
      "\n",
      "See the caveats in the documentation: http://pandas.pydata.org/pandas-docs/stable/indexing.html#indexing-view-versus-copy\n",
      "  after removing the cwd from sys.path.\n",
      "/anaconda3/lib/python3.7/site-packages/ipykernel_launcher.py:5: SettingWithCopyWarning: \n",
      "A value is trying to be set on a copy of a slice from a DataFrame\n",
      "\n",
      "See the caveats in the documentation: http://pandas.pydata.org/pandas-docs/stable/indexing.html#indexing-view-versus-copy\n",
      "  \"\"\"\n"
     ]
    }
   ],
   "source": [
    "three_measures = combined[['views_recent','views_lifetime', 'shares']]\n",
    "\n",
    "from_usr_act = create_boolean(three_measures, 'views_recent')\n",
    "from_mkt_lib = create_boolean(three_measures, 'views_lifetime')\n",
    "from_top_mkt = create_boolean(three_measures, 'shares')"
   ]
  },
  {
   "cell_type": "code",
   "execution_count": 64,
   "metadata": {},
   "outputs": [
    {
     "data": {
      "text/html": [
       "<div>\n",
       "<style scoped>\n",
       "    .dataframe tbody tr th:only-of-type {\n",
       "        vertical-align: middle;\n",
       "    }\n",
       "\n",
       "    .dataframe tbody tr th {\n",
       "        vertical-align: top;\n",
       "    }\n",
       "\n",
       "    .dataframe thead th {\n",
       "        text-align: right;\n",
       "    }\n",
       "</style>\n",
       "<table border=\"1\" class=\"dataframe\">\n",
       "  <thead>\n",
       "    <tr style=\"text-align: right;\">\n",
       "      <th></th>\n",
       "      <th>from_usr_act</th>\n",
       "      <th>from_mkt_lib</th>\n",
       "      <th>from_top_mkt</th>\n",
       "    </tr>\n",
       "  </thead>\n",
       "  <tbody>\n",
       "    <tr>\n",
       "      <th>0</th>\n",
       "      <td>0</td>\n",
       "      <td>1</td>\n",
       "      <td>0</td>\n",
       "    </tr>\n",
       "    <tr>\n",
       "      <th>1</th>\n",
       "      <td>1</td>\n",
       "      <td>1</td>\n",
       "      <td>1</td>\n",
       "    </tr>\n",
       "    <tr>\n",
       "      <th>2</th>\n",
       "      <td>1</td>\n",
       "      <td>0</td>\n",
       "      <td>0</td>\n",
       "    </tr>\n",
       "    <tr>\n",
       "      <th>3</th>\n",
       "      <td>1</td>\n",
       "      <td>0</td>\n",
       "      <td>0</td>\n",
       "    </tr>\n",
       "    <tr>\n",
       "      <th>4</th>\n",
       "      <td>0</td>\n",
       "      <td>1</td>\n",
       "      <td>0</td>\n",
       "    </tr>\n",
       "  </tbody>\n",
       "</table>\n",
       "</div>"
      ],
      "text/plain": [
       "   from_usr_act  from_mkt_lib  from_top_mkt\n",
       "0             0             1             0\n",
       "1             1             1             1\n",
       "2             1             0             0\n",
       "3             1             0             0\n",
       "4             0             1             0"
      ]
     },
     "execution_count": 64,
     "metadata": {},
     "output_type": "execute_result"
    }
   ],
   "source": [
    "measures = pd.concat([from_usr_act, from_mkt_lib, from_top_mkt], axis=1).astype(int)\n",
    "measures = measures.rename(index=str, columns={\"views_recent\": \"from_usr_act\", \"views_lifetime\": \"from_mkt_lib\", \n",
    "                                               \"shares\": \"from_top_mkt\"})\n",
    "measures.head()"
   ]
  },
  {
   "cell_type": "code",
   "execution_count": 34,
   "metadata": {},
   "outputs": [],
   "source": [
    "measurement = np.array(measures)\n",
    "source = []\n",
    "for i in range (len(measurement)):\n",
    "    list = []\n",
    "    for j in range (3):\n",
    "        if measurement[i][j] == 1:\n",
    "            list.append(j)\n",
    "    source.append(list)\n",
    "#source"
   ]
  },
  {
   "cell_type": "code",
   "execution_count": 35,
   "metadata": {},
   "outputs": [],
   "source": [
    "data_source = source\n",
    "for i in range (len(data_source)):\n",
    "    for j in range(len(data_source[i])):\n",
    "        if data_source[i][j] == 0:\n",
    "            data_source[i][j] = 'user activity'\n",
    "        elif data_source[i][j] == 1:\n",
    "            data_source[i][j] = 'library marketing'\n",
    "        elif data_source[i][j] == 2:\n",
    "            data_source[i][j] = 'top marketing'\n",
    "#data_source"
   ]
  },
  {
   "cell_type": "markdown",
   "metadata": {},
   "source": [
    "- <b>Compute 3 quantile of each measurement and assign score"
   ]
  },
  {
   "cell_type": "code",
   "execution_count": 36,
   "metadata": {},
   "outputs": [
    {
     "data": {
      "text/html": [
       "<div>\n",
       "<style scoped>\n",
       "    .dataframe tbody tr th:only-of-type {\n",
       "        vertical-align: middle;\n",
       "    }\n",
       "\n",
       "    .dataframe tbody tr th {\n",
       "        vertical-align: top;\n",
       "    }\n",
       "\n",
       "    .dataframe thead th {\n",
       "        text-align: right;\n",
       "    }\n",
       "</style>\n",
       "<table border=\"1\" class=\"dataframe\">\n",
       "  <thead>\n",
       "    <tr style=\"text-align: right;\">\n",
       "      <th></th>\n",
       "      <th>views_recent</th>\n",
       "      <th>views_lifetime</th>\n",
       "      <th>shares</th>\n",
       "    </tr>\n",
       "  </thead>\n",
       "  <tbody>\n",
       "    <tr>\n",
       "      <th>count</th>\n",
       "      <td>219.000000</td>\n",
       "      <td>219.000000</td>\n",
       "      <td>219.000000</td>\n",
       "    </tr>\n",
       "    <tr>\n",
       "      <th>mean</th>\n",
       "      <td>13.191781</td>\n",
       "      <td>1215.611872</td>\n",
       "      <td>11.378995</td>\n",
       "    </tr>\n",
       "    <tr>\n",
       "      <th>std</th>\n",
       "      <td>34.117844</td>\n",
       "      <td>2749.211577</td>\n",
       "      <td>28.116039</td>\n",
       "    </tr>\n",
       "    <tr>\n",
       "      <th>min</th>\n",
       "      <td>0.000000</td>\n",
       "      <td>0.000000</td>\n",
       "      <td>0.000000</td>\n",
       "    </tr>\n",
       "    <tr>\n",
       "      <th>25%</th>\n",
       "      <td>0.000000</td>\n",
       "      <td>160.000000</td>\n",
       "      <td>2.000000</td>\n",
       "    </tr>\n",
       "    <tr>\n",
       "      <th>50%</th>\n",
       "      <td>3.000000</td>\n",
       "      <td>487.000000</td>\n",
       "      <td>4.000000</td>\n",
       "    </tr>\n",
       "    <tr>\n",
       "      <th>75%</th>\n",
       "      <td>11.000000</td>\n",
       "      <td>1136.000000</td>\n",
       "      <td>11.000000</td>\n",
       "    </tr>\n",
       "    <tr>\n",
       "      <th>max</th>\n",
       "      <td>295.000000</td>\n",
       "      <td>24783.000000</td>\n",
       "      <td>264.000000</td>\n",
       "    </tr>\n",
       "  </tbody>\n",
       "</table>\n",
       "</div>"
      ],
      "text/plain": [
       "       views_recent  views_lifetime      shares\n",
       "count    219.000000      219.000000  219.000000\n",
       "mean      13.191781     1215.611872   11.378995\n",
       "std       34.117844     2749.211577   28.116039\n",
       "min        0.000000        0.000000    0.000000\n",
       "25%        0.000000      160.000000    2.000000\n",
       "50%        3.000000      487.000000    4.000000\n",
       "75%       11.000000     1136.000000   11.000000\n",
       "max      295.000000    24783.000000  264.000000"
      ]
     },
     "execution_count": 36,
     "metadata": {},
     "output_type": "execute_result"
    }
   ],
   "source": [
    "## Remove NaN temporarily for computing quantile\n",
    "tmp = combined[['views_recent', 'views_lifetime', 'shares']].dropna()\n",
    "#tmp\n",
    "\n",
    "tmp.describe()"
   ]
  },
  {
   "cell_type": "markdown",
   "metadata": {},
   "source": [
    "- <b> impute missing values with 0</b>"
   ]
  },
  {
   "cell_type": "code",
   "execution_count": 37,
   "metadata": {},
   "outputs": [],
   "source": [
    "def impute_missing(data, variable):\n",
    "    value = data[variable]\n",
    "    for i in range (len(value)):\n",
    "        if pd.isnull(value[i]):\n",
    "            value[i] = '0'\n",
    "    return value"
   ]
  },
  {
   "cell_type": "code",
   "execution_count": 38,
   "metadata": {},
   "outputs": [
    {
     "name": "stderr",
     "output_type": "stream",
     "text": [
      "/anaconda3/lib/python3.7/site-packages/ipykernel_launcher.py:3: SettingWithCopyWarning: \n",
      "A value is trying to be set on a copy of a slice from a DataFrame\n",
      "\n",
      "See the caveats in the documentation: http://pandas.pydata.org/pandas-docs/stable/indexing.html#indexing-view-versus-copy\n",
      "  This is separate from the ipykernel package so we can avoid doing imports until\n",
      "/anaconda3/lib/python3.7/site-packages/ipykernel_launcher.py:4: SettingWithCopyWarning: \n",
      "A value is trying to be set on a copy of a slice from a DataFrame\n",
      "\n",
      "See the caveats in the documentation: http://pandas.pydata.org/pandas-docs/stable/indexing.html#indexing-view-versus-copy\n",
      "  after removing the cwd from sys.path.\n",
      "/anaconda3/lib/python3.7/site-packages/ipykernel_launcher.py:5: SettingWithCopyWarning: \n",
      "A value is trying to be set on a copy of a slice from a DataFrame\n",
      "\n",
      "See the caveats in the documentation: http://pandas.pydata.org/pandas-docs/stable/indexing.html#indexing-view-versus-copy\n",
      "  \"\"\"\n"
     ]
    }
   ],
   "source": [
    "three_impute = combined[['views_recent','views_lifetime', 'shares']]\n",
    "\n",
    "views_recent_impute = impute_missing(three_impute, 'views_recent')\n",
    "views_lifetime_impute = impute_missing(three_impute, 'views_lifetime')\n",
    "shares_impute = impute_missing(three_impute, 'shares')"
   ]
  },
  {
   "cell_type": "markdown",
   "metadata": {},
   "source": [
    "Get quantile of three measurements from tmp\n",
    "```\n",
    "recent_view \n",
    "Categories (3, interval[float64]): [(-0.001, 1.0] < (1.0, 6.333] < (6.333, 295.0]]\n",
    "\n",
    "lifetime_view\n",
    "Categories (3, interval[float64]): [(-0.001, 211.0] < (211.0, 868.0] < (868.0, 24783.0]]\n",
    "\n",
    "shares_mkt_content\n",
    "Categories (3, interval[float64]): [(-0.001, 2.0] < (2.0, 7.0] < (7.0, 264.0]]\n",
    "```"
   ]
  },
  {
   "cell_type": "code",
   "execution_count": 39,
   "metadata": {},
   "outputs": [],
   "source": [
    "## Function that converts the grouping results into score\n",
    "def score_convert(data, level_1, level_2):\n",
    "    val = data\n",
    "    for i in range (len(val)):\n",
    "        if val[i] <= level_1:\n",
    "            val[i] = '1'\n",
    "        elif level_1 < val[i] <= level_2:\n",
    "            val[i] = '2'\n",
    "        else:\n",
    "            val[i] = '3'\n",
    "    return val"
   ]
  },
  {
   "cell_type": "code",
   "execution_count": 40,
   "metadata": {},
   "outputs": [
    {
     "name": "stderr",
     "output_type": "stream",
     "text": [
      "/anaconda3/lib/python3.7/site-packages/ipykernel_launcher.py:1: SettingWithCopyWarning: \n",
      "A value is trying to be set on a copy of a slice from a DataFrame\n",
      "\n",
      "See the caveats in the documentation: http://pandas.pydata.org/pandas-docs/stable/indexing.html#indexing-view-versus-copy\n",
      "  \"\"\"Entry point for launching an IPython kernel.\n",
      "/anaconda3/lib/python3.7/site-packages/ipykernel_launcher.py:2: SettingWithCopyWarning: \n",
      "A value is trying to be set on a copy of a slice from a DataFrame\n",
      "\n",
      "See the caveats in the documentation: http://pandas.pydata.org/pandas-docs/stable/indexing.html#indexing-view-versus-copy\n",
      "  \n",
      "/anaconda3/lib/python3.7/site-packages/ipykernel_launcher.py:3: SettingWithCopyWarning: \n",
      "A value is trying to be set on a copy of a slice from a DataFrame\n",
      "\n",
      "See the caveats in the documentation: http://pandas.pydata.org/pandas-docs/stable/indexing.html#indexing-view-versus-copy\n",
      "  This is separate from the ipykernel package so we can avoid doing imports until\n"
     ]
    }
   ],
   "source": [
    "recent_view_score = score_convert(views_recent_impute, 1.0, 6.333)\n",
    "lifetime_view_score = score_convert(views_lifetime_impute, 211.0, 868.0)\n",
    "share_score = score_convert(shares_impute, 2.0, 7.0)"
   ]
  },
  {
   "cell_type": "code",
   "execution_count": 41,
   "metadata": {},
   "outputs": [],
   "source": [
    "score = pd.concat([recent_view_score, lifetime_view_score, share_score], axis=1).astype(float)"
   ]
  },
  {
   "cell_type": "code",
   "execution_count": 42,
   "metadata": {},
   "outputs": [
    {
     "data": {
      "text/html": [
       "<div>\n",
       "<style scoped>\n",
       "    .dataframe tbody tr th:only-of-type {\n",
       "        vertical-align: middle;\n",
       "    }\n",
       "\n",
       "    .dataframe tbody tr th {\n",
       "        vertical-align: top;\n",
       "    }\n",
       "\n",
       "    .dataframe thead th {\n",
       "        text-align: right;\n",
       "    }\n",
       "</style>\n",
       "<table border=\"1\" class=\"dataframe\">\n",
       "  <thead>\n",
       "    <tr style=\"text-align: right;\">\n",
       "      <th></th>\n",
       "      <th>views_recent</th>\n",
       "      <th>views_lifetime</th>\n",
       "      <th>shares</th>\n",
       "    </tr>\n",
       "  </thead>\n",
       "  <tbody>\n",
       "    <tr>\n",
       "      <th>0</th>\n",
       "      <td>1.0</td>\n",
       "      <td>1.0</td>\n",
       "      <td>1.0</td>\n",
       "    </tr>\n",
       "    <tr>\n",
       "      <th>1</th>\n",
       "      <td>1.0</td>\n",
       "      <td>3.0</td>\n",
       "      <td>1.0</td>\n",
       "    </tr>\n",
       "    <tr>\n",
       "      <th>2</th>\n",
       "      <td>1.0</td>\n",
       "      <td>1.0</td>\n",
       "      <td>1.0</td>\n",
       "    </tr>\n",
       "    <tr>\n",
       "      <th>3</th>\n",
       "      <td>3.0</td>\n",
       "      <td>1.0</td>\n",
       "      <td>1.0</td>\n",
       "    </tr>\n",
       "    <tr>\n",
       "      <th>4</th>\n",
       "      <td>1.0</td>\n",
       "      <td>1.0</td>\n",
       "      <td>1.0</td>\n",
       "    </tr>\n",
       "  </tbody>\n",
       "</table>\n",
       "</div>"
      ],
      "text/plain": [
       "   views_recent  views_lifetime  shares\n",
       "0           1.0             1.0     1.0\n",
       "1           1.0             3.0     1.0\n",
       "2           1.0             1.0     1.0\n",
       "3           3.0             1.0     1.0\n",
       "4           1.0             1.0     1.0"
      ]
     },
     "execution_count": 42,
     "metadata": {},
     "output_type": "execute_result"
    }
   ],
   "source": [
    "score.head(5)"
   ]
  },
  {
   "cell_type": "code",
   "execution_count": 43,
   "metadata": {},
   "outputs": [],
   "source": [
    "## total = 1/3(recent_view) + 1/3(lifetime_view) + 1/3(shares)\n",
    "s = np.array(score)\n",
    "n = 0\n",
    "for i in range (len(s)):\n",
    "    for j in range (3):\n",
    "        n += s[i][j]\n",
    "    s[i] = n * 1/3\n",
    "    n = 0\n",
    "\n",
    "total = [s[i][0] for i in range(len(s))]"
   ]
  },
  {
   "cell_type": "markdown",
   "metadata": {},
   "source": [
    "- <b> merge combined with boolean source, string source and total score </b>"
   ]
  },
  {
   "cell_type": "code",
   "execution_count": 65,
   "metadata": {},
   "outputs": [],
   "source": [
    "combined_boolean = pd.concat([combined, measures], axis=1)"
   ]
  },
  {
   "cell_type": "code",
   "execution_count": 110,
   "metadata": {},
   "outputs": [],
   "source": [
    "#combined_boolean"
   ]
  },
  {
   "cell_type": "code",
   "execution_count": 67,
   "metadata": {},
   "outputs": [
    {
     "data": {
      "text/html": [
       "<div>\n",
       "<style scoped>\n",
       "    .dataframe tbody tr th:only-of-type {\n",
       "        vertical-align: middle;\n",
       "    }\n",
       "\n",
       "    .dataframe tbody tr th {\n",
       "        vertical-align: top;\n",
       "    }\n",
       "\n",
       "    .dataframe thead th {\n",
       "        text-align: right;\n",
       "    }\n",
       "</style>\n",
       "<table border=\"1\" class=\"dataframe\">\n",
       "  <thead>\n",
       "    <tr style=\"text-align: right;\">\n",
       "      <th></th>\n",
       "      <th>asset_name</th>\n",
       "      <th>file_type</th>\n",
       "      <th>date_created</th>\n",
       "      <th>date_last_activity</th>\n",
       "      <th>views_recent</th>\n",
       "      <th>downloads_recent</th>\n",
       "      <th>views_lifetime</th>\n",
       "      <th>likes_lifetime</th>\n",
       "      <th>shares</th>\n",
       "      <th>social_shares</th>\n",
       "      <th>from_usr_act</th>\n",
       "      <th>from_mkt_lib</th>\n",
       "      <th>from_top_mkt</th>\n",
       "      <th>data_source</th>\n",
       "      <th>total_score</th>\n",
       "    </tr>\n",
       "  </thead>\n",
       "  <tbody>\n",
       "    <tr>\n",
       "      <th>0</th>\n",
       "      <td>*Risk Exposure Calculator in $*.zip</td>\n",
       "      <td>zip</td>\n",
       "      <td>2019-04-17 02:52:34</td>\n",
       "      <td>NaN</td>\n",
       "      <td>NaN</td>\n",
       "      <td>NaN</td>\n",
       "      <td>5.0</td>\n",
       "      <td>0.0</td>\n",
       "      <td>NaN</td>\n",
       "      <td>NaN</td>\n",
       "      <td>0</td>\n",
       "      <td>1</td>\n",
       "      <td>0</td>\n",
       "      <td>[library marketing]</td>\n",
       "      <td>1.000000</td>\n",
       "    </tr>\n",
       "    <tr>\n",
       "      <th>1</th>\n",
       "      <td>1 Minute Testimonial.mp4</td>\n",
       "      <td>mp4</td>\n",
       "      <td>2015-10-27 12:42:54</td>\n",
       "      <td>2019-06-19 06:26:17-07:00</td>\n",
       "      <td>0.0</td>\n",
       "      <td>0.0</td>\n",
       "      <td>890.0</td>\n",
       "      <td>0.0</td>\n",
       "      <td>1.0</td>\n",
       "      <td>1.0</td>\n",
       "      <td>1</td>\n",
       "      <td>1</td>\n",
       "      <td>1</td>\n",
       "      <td>[user activity, library marketing, top markeitng]</td>\n",
       "      <td>1.666667</td>\n",
       "    </tr>\n",
       "    <tr>\n",
       "      <th>2</th>\n",
       "      <td>1. EF presentation Utrecht event.pdf</td>\n",
       "      <td>pdf</td>\n",
       "      <td>NaT</td>\n",
       "      <td>2019-06-25 06:19:34-07:00</td>\n",
       "      <td>0.0</td>\n",
       "      <td>1.0</td>\n",
       "      <td>NaN</td>\n",
       "      <td>NaN</td>\n",
       "      <td>NaN</td>\n",
       "      <td>NaN</td>\n",
       "      <td>1</td>\n",
       "      <td>0</td>\n",
       "      <td>0</td>\n",
       "      <td>[user activity]</td>\n",
       "      <td>1.000000</td>\n",
       "    </tr>\n",
       "    <tr>\n",
       "      <th>3</th>\n",
       "      <td>10 Users.pdf</td>\n",
       "      <td>pdf</td>\n",
       "      <td>NaT</td>\n",
       "      <td>2019-06-17 15:37:22-07:00</td>\n",
       "      <td>14.0</td>\n",
       "      <td>0.0</td>\n",
       "      <td>NaN</td>\n",
       "      <td>NaN</td>\n",
       "      <td>NaN</td>\n",
       "      <td>NaN</td>\n",
       "      <td>1</td>\n",
       "      <td>0</td>\n",
       "      <td>0</td>\n",
       "      <td>[user activity]</td>\n",
       "      <td>1.666667</td>\n",
       "    </tr>\n",
       "    <tr>\n",
       "      <th>4</th>\n",
       "      <td>2. Find, Present, Share Content.mov</td>\n",
       "      <td>mov</td>\n",
       "      <td>2018-03-15 17:56:29</td>\n",
       "      <td>NaN</td>\n",
       "      <td>NaN</td>\n",
       "      <td>NaN</td>\n",
       "      <td>3.0</td>\n",
       "      <td>0.0</td>\n",
       "      <td>NaN</td>\n",
       "      <td>NaN</td>\n",
       "      <td>0</td>\n",
       "      <td>1</td>\n",
       "      <td>0</td>\n",
       "      <td>[library marketing]</td>\n",
       "      <td>1.000000</td>\n",
       "    </tr>\n",
       "  </tbody>\n",
       "</table>\n",
       "</div>"
      ],
      "text/plain": [
       "                             asset_name file_type        date_created  \\\n",
       "0   *Risk Exposure Calculator in $*.zip       zip 2019-04-17 02:52:34   \n",
       "1              1 Minute Testimonial.mp4       mp4 2015-10-27 12:42:54   \n",
       "2  1. EF presentation Utrecht event.pdf       pdf                 NaT   \n",
       "3                          10 Users.pdf       pdf                 NaT   \n",
       "4   2. Find, Present, Share Content.mov       mov 2018-03-15 17:56:29   \n",
       "\n",
       "          date_last_activity  views_recent  downloads_recent  views_lifetime  \\\n",
       "0                        NaN           NaN               NaN             5.0   \n",
       "1  2019-06-19 06:26:17-07:00           0.0               0.0           890.0   \n",
       "2  2019-06-25 06:19:34-07:00           0.0               1.0             NaN   \n",
       "3  2019-06-17 15:37:22-07:00          14.0               0.0             NaN   \n",
       "4                        NaN           NaN               NaN             3.0   \n",
       "\n",
       "   likes_lifetime  shares  social_shares  from_usr_act  from_mkt_lib  \\\n",
       "0             0.0     NaN            NaN             0             1   \n",
       "1             0.0     1.0            1.0             1             1   \n",
       "2             NaN     NaN            NaN             1             0   \n",
       "3             NaN     NaN            NaN             1             0   \n",
       "4             0.0     NaN            NaN             0             1   \n",
       "\n",
       "   from_top_mkt                                        data_source  \\\n",
       "0             0                                [library marketing]   \n",
       "1             1  [user activity, library marketing, top markeitng]   \n",
       "2             0                                    [user activity]   \n",
       "3             0                                    [user activity]   \n",
       "4             0                                [library marketing]   \n",
       "\n",
       "   total_score  \n",
       "0     1.000000  \n",
       "1     1.666667  \n",
       "2     1.000000  \n",
       "3     1.666667  \n",
       "4     1.000000  "
      ]
     },
     "execution_count": 67,
     "metadata": {},
     "output_type": "execute_result"
    }
   ],
   "source": [
    "new_combined = combined_boolean\n",
    "new_combined['data_source'] = data_source\n",
    "new_combined['total_score'] = total\n",
    "new_combined.head()"
   ]
  },
  {
   "cell_type": "markdown",
   "metadata": {},
   "source": [
    "- <b> export merged table and recent engagement report</b>"
   ]
  },
  {
   "cell_type": "code",
   "execution_count": 47,
   "metadata": {},
   "outputs": [],
   "source": [
    "user_act_file.to_csv('Recent_Engagement_Report.csv')\n",
    "new_combined.to_csv('Merged_Engagement_Table.csv', index=False)"
   ]
  },
  {
   "cell_type": "markdown",
   "metadata": {},
   "source": [
    "## Extra"
   ]
  },
  {
   "cell_type": "markdown",
   "metadata": {},
   "source": [
    "- <b>Try k-means clustering on complete data</b>"
   ]
  },
  {
   "cell_type": "code",
   "execution_count": 134,
   "metadata": {},
   "outputs": [],
   "source": [
    "complete_data = new_combined[['asset_name', 'views_recent', 'downloads_recent', 'views_lifetime', 'shares', \n",
    "                              'total_score']].dropna()\n",
    "#complete_data"
   ]
  },
  {
   "cell_type": "code",
   "execution_count": 135,
   "metadata": {},
   "outputs": [],
   "source": [
    "clustering_data = np.array(complete_data[complete_data.columns[1:]])\n",
    "#clustering_data"
   ]
  },
  {
   "cell_type": "code",
   "execution_count": 136,
   "metadata": {},
   "outputs": [
    {
     "data": {
      "text/plain": [
       "array([[0.00000000e+00, 0.00000000e+00, 8.90000000e+02, 1.00000000e+00,\n",
       "        1.66666667e+00],\n",
       "       [3.50000000e+01, 3.00000000e+00, 7.30000000e+01, 1.20000000e+01,\n",
       "        2.33333333e+00],\n",
       "       [2.90000000e+01, 1.00000000e+00, 2.10000000e+01, 1.50000000e+01,\n",
       "        2.33333333e+00],\n",
       "       ...,\n",
       "       [6.00000000e+00, 1.00000000e+00, 2.53500000e+03, 1.10000000e+01,\n",
       "        2.66666667e+00],\n",
       "       [0.00000000e+00, 1.00000000e+00, 8.26000000e+02, 2.00000000e+00,\n",
       "        1.33333333e+00],\n",
       "       [1.00000000e+00, 0.00000000e+00, 1.88000000e+02, 9.00000000e+00,\n",
       "        1.66666667e+00]])"
      ]
     },
     "execution_count": 136,
     "metadata": {},
     "output_type": "execute_result"
    }
   ],
   "source": [
    "clustering_data"
   ]
  },
  {
   "cell_type": "code",
   "execution_count": 137,
   "metadata": {},
   "outputs": [
    {
     "name": "stdout",
     "output_type": "stream",
     "text": [
      "Initialization complete\n",
      "start iteration\n",
      "done sorting\n",
      "end inner loop\n",
      "Iteration 0, inertia 314737934.22897196\n",
      "start iteration\n",
      "done sorting\n",
      "end inner loop\n",
      "Iteration 1, inertia 262175132.3643606\n",
      "start iteration\n",
      "done sorting\n",
      "end inner loop\n",
      "Iteration 2, inertia 249585441.0146568\n",
      "start iteration\n",
      "done sorting\n",
      "end inner loop\n",
      "Iteration 3, inertia 249585441.0146568\n",
      "center shift 0.000000e+00 within tolerance 1.505141e+02\n",
      "Initialization complete\n",
      "start iteration\n",
      "done sorting\n",
      "end inner loop\n",
      "Iteration 0, inertia 234967817.48780924\n",
      "start iteration\n",
      "done sorting\n",
      "end inner loop\n",
      "Iteration 1, inertia 218761726.11084396\n",
      "start iteration\n",
      "done sorting\n",
      "end inner loop\n",
      "Iteration 2, inertia 214216957.14960426\n",
      "start iteration\n",
      "done sorting\n",
      "end inner loop\n",
      "Iteration 3, inertia 211004365.61525708\n",
      "start iteration\n",
      "done sorting\n",
      "end inner loop\n",
      "Iteration 4, inertia 211004365.61525708\n",
      "center shift 0.000000e+00 within tolerance 1.505141e+02\n",
      "Initialization complete\n",
      "start iteration\n",
      "done sorting\n",
      "end inner loop\n",
      "Iteration 0, inertia 231419879.8721065\n",
      "start iteration\n",
      "done sorting\n",
      "end inner loop\n",
      "Iteration 1, inertia 215937859.1144781\n",
      "start iteration\n",
      "done sorting\n",
      "end inner loop\n",
      "Iteration 2, inertia 211004365.61525708\n",
      "start iteration\n",
      "done sorting\n",
      "end inner loop\n",
      "Iteration 3, inertia 211004365.61525708\n",
      "center shift 0.000000e+00 within tolerance 1.505141e+02\n",
      "Initialization complete\n",
      "start iteration\n",
      "done sorting\n",
      "end inner loop\n",
      "Iteration 0, inertia 314737934.22897196\n",
      "start iteration\n",
      "done sorting\n",
      "end inner loop\n",
      "Iteration 1, inertia 262175132.3643606\n",
      "start iteration\n",
      "done sorting\n",
      "end inner loop\n",
      "Iteration 2, inertia 249585441.0146568\n",
      "start iteration\n",
      "done sorting\n",
      "end inner loop\n",
      "Iteration 3, inertia 249585441.0146568\n",
      "center shift 0.000000e+00 within tolerance 1.505141e+02\n",
      "Initialization complete\n",
      "start iteration\n",
      "done sorting\n",
      "end inner loop\n",
      "Iteration 0, inertia 242087012.23173314\n",
      "start iteration\n",
      "done sorting\n",
      "end inner loop\n",
      "Iteration 1, inertia 234967817.48780924\n",
      "start iteration\n",
      "done sorting\n",
      "end inner loop\n",
      "Iteration 2, inertia 218761726.11084396\n",
      "start iteration\n",
      "done sorting\n",
      "end inner loop\n",
      "Iteration 3, inertia 214216957.14960426\n",
      "start iteration\n",
      "done sorting\n",
      "end inner loop\n",
      "Iteration 4, inertia 211004365.61525708\n",
      "start iteration\n",
      "done sorting\n",
      "end inner loop\n",
      "Iteration 5, inertia 211004365.61525708\n",
      "center shift 0.000000e+00 within tolerance 1.505141e+02\n",
      "Initialization complete\n",
      "start iteration\n",
      "done sorting\n",
      "end inner loop\n",
      "Iteration 0, inertia 211303148.0809367\n",
      "start iteration\n",
      "done sorting\n",
      "end inner loop\n",
      "Iteration 1, inertia 211303148.0809367\n",
      "center shift 0.000000e+00 within tolerance 1.505141e+02\n",
      "Initialization complete\n",
      "start iteration\n",
      "done sorting\n",
      "end inner loop\n",
      "Iteration 0, inertia 211303148.0809367\n",
      "start iteration\n",
      "done sorting\n",
      "end inner loop\n",
      "Iteration 1, inertia 211303148.0809367\n",
      "center shift 0.000000e+00 within tolerance 1.505141e+02\n",
      "Initialization complete\n",
      "start iteration\n",
      "done sorting\n",
      "end inner loop\n",
      "Iteration 0, inertia 242087012.23173314\n",
      "start iteration\n",
      "done sorting\n",
      "end inner loop\n",
      "Iteration 1, inertia 234967817.48780924\n",
      "start iteration\n",
      "done sorting\n",
      "end inner loop\n",
      "Iteration 2, inertia 218761726.11084396\n",
      "start iteration\n",
      "done sorting\n",
      "end inner loop\n",
      "Iteration 3, inertia 214216957.14960426\n",
      "start iteration\n",
      "done sorting\n",
      "end inner loop\n",
      "Iteration 4, inertia 211004365.61525708\n",
      "start iteration\n",
      "done sorting\n",
      "end inner loop\n",
      "Iteration 5, inertia 211004365.61525708\n",
      "center shift 0.000000e+00 within tolerance 1.505141e+02\n",
      "Initialization complete\n",
      "start iteration\n",
      "done sorting\n",
      "end inner loop\n",
      "Iteration 0, inertia 218761726.11084396\n",
      "start iteration\n",
      "done sorting\n",
      "end inner loop\n",
      "Iteration 1, inertia 214216957.14960426\n",
      "start iteration\n",
      "done sorting\n",
      "end inner loop\n",
      "Iteration 2, inertia 211004365.61525708\n",
      "start iteration\n",
      "done sorting\n",
      "end inner loop\n",
      "Iteration 3, inertia 211004365.61525708\n",
      "center shift 0.000000e+00 within tolerance 1.505141e+02\n",
      "Initialization complete\n",
      "start iteration\n",
      "done sorting\n",
      "end inner loop\n",
      "Iteration 0, inertia 247805484.8173913\n",
      "start iteration\n",
      "done sorting\n",
      "end inner loop\n",
      "Iteration 1, inertia 247805484.8173913\n",
      "center shift 0.000000e+00 within tolerance 1.505141e+02\n"
     ]
    },
    {
     "data": {
      "text/plain": [
       "KMeans(algorithm='auto', copy_x=True, init='k-means++', max_iter=500,\n",
       "    n_clusters=3, n_init=10, n_jobs=None, precompute_distances='auto',\n",
       "    random_state=None, tol=0.0001, verbose=1)"
      ]
     },
     "execution_count": 137,
     "metadata": {},
     "output_type": "execute_result"
    }
   ],
   "source": [
    "from sklearn.cluster import KMeans\n",
    "\n",
    "kmeans = KMeans(n_clusters=3, max_iter=500, verbose=1) # initialization\n",
    "kmeans.fit(clustering_data)"
   ]
  },
  {
   "cell_type": "code",
   "execution_count": 138,
   "metadata": {},
   "outputs": [
    {
     "name": "stdout",
     "output_type": "stream",
     "text": [
      "[0 0 0 0 0 0 0 0 0 0 0 0 0 0 0 0 0 0 0 0 0 0 0 0 0 0 0 0 0 0 0 0 0 0 0 0 0\n",
      " 0 0 0 0 0 0 0 0 0 0 0 0 0 0 0 0 0 0 0 0 0 0 0 0 0 0 0 2 0 0 0 0 0 0 0 0 0\n",
      " 0 0 0 0 0 0 0 0 0 0 0 0 0 0 0 0 0 0 0 0 0 0 0 0 0 0 0 0 0 0 0 0 0 0 0 2 0\n",
      " 0 0 0 0 0 0 0 0 0 0 0 0 0 0 0 0 2 0 0 0 0 2 1 0 0 0 0 0 0 0 0 0 0 0 2 0 0\n",
      " 0 0 0 0 2 2 2 0 0 0 0 0 2 0 1 2 1 0 0 0 0 2 2 0 2 0 0 0 0 0 0 0 0 0 0 0 0\n",
      " 0 0 0 0 2 2 0 0 0 0 0 0 0 0 0 0 0 0 0 0 0 0 0 0 0 0 0 0 0 0 0 0 0 0]\n"
     ]
    }
   ],
   "source": [
    "clusters = kmeans.predict(clustering_data)\n",
    "print (clusters)"
   ]
  },
  {
   "cell_type": "code",
   "execution_count": 139,
   "metadata": {},
   "outputs": [],
   "source": [
    "new_complete = complete_data\n",
    "new_complete['cluster'] = clusters\n",
    "#new_complete"
   ]
  },
  {
   "cell_type": "markdown",
   "metadata": {},
   "source": [
    "- <b> create visualizations based on clustering </b>"
   ]
  },
  {
   "cell_type": "code",
   "execution_count": 168,
   "metadata": {},
   "outputs": [],
   "source": [
    "def overview(df, x_axis, y_axis):\n",
    "    plt.figure(figsize = (8, 5))\n",
    "    g = sns.scatterplot(x=x_axis, y=y_axis, hue='cluster', palette='Set2', data=df)\n",
    "    plt.show()"
   ]
  },
  {
   "cell_type": "code",
   "execution_count": 169,
   "metadata": {},
   "outputs": [],
   "source": [
    "def cluster_view(df, x_axis, y_axis):\n",
    "    g = sns.FacetGrid(df, col=\"cluster\", hue=\"cluster\", palette='Set2')\n",
    "    g.map(plt.scatter, x_axis, y_axis, alpha=.7)\n",
    "    g.add_legend()"
   ]
  },
  {
   "cell_type": "markdown",
   "metadata": {},
   "source": [
    "1. views_recent vs views_lifetime"
   ]
  },
  {
   "cell_type": "code",
   "execution_count": 170,
   "metadata": {},
   "outputs": [
    {
     "data": {
      "image/png": "[encoded data removed]",
      "text/plain": [
       "<Figure size 576x360 with 1 Axes>"
      ]
     },
     "metadata": {
      "needs_background": "light"
     },
     "output_type": "display_data"
    }
   ],
   "source": [
    "plot = overview(new_complete, 'views_recent', 'views_lifetime')"
   ]
  },
  {
   "cell_type": "code",
   "execution_count": 171,
   "metadata": {},
   "outputs": [
    {
     "data": {
      "image/png": "[encoded data removed]",
      "text/plain": [
       "<Figure size 690.375x216 with 3 Axes>"
      ]
     },
     "metadata": {
      "needs_background": "light"
     },
     "output_type": "display_data"
    }
   ],
   "source": [
    "plot = cluster_view(new_complete, 'views_recent', 'views_lifetime')"
   ]
  },
  {
   "cell_type": "markdown",
   "metadata": {},
   "source": [
    "2. views_recent vs shares"
   ]
  },
  {
   "cell_type": "code",
   "execution_count": 151,
   "metadata": {},
   "outputs": [
    {
     "data": {
      "image/png": "[encoded data removed]",
      "text/plain": [
       "<Figure size 576x360 with 1 Axes>"
      ]
     },
     "metadata": {
      "needs_background": "light"
     },
     "output_type": "display_data"
    }
   ],
   "source": [
    "plot = overview(new_complete, 'views_recent', 'shares')"
   ]
  },
  {
   "cell_type": "code",
   "execution_count": 150,
   "metadata": {},
   "outputs": [
    {
     "data": {
      "image/png": "[encoded data removed]",
      "text/plain": [
       "<Figure size 690.375x216 with 3 Axes>"
      ]
     },
     "metadata": {
      "needs_background": "light"
     },
     "output_type": "display_data"
    }
   ],
   "source": [
    "plot = cluster_view(new_complete, 'views_recent', 'shares')"
   ]
  },
  {
   "cell_type": "markdown",
   "metadata": {},
   "source": [
    "3. views_recent vs total_score"
   ]
  },
  {
   "cell_type": "code",
   "execution_count": 152,
   "metadata": {},
   "outputs": [
    {
     "data": {
      "image/png": "[encoded data removed]",
      "text/plain": [
       "<Figure size 576x360 with 1 Axes>"
      ]
     },
     "metadata": {
      "needs_background": "light"
     },
     "output_type": "display_data"
    }
   ],
   "source": [
    "plot = overview(new_complete, 'views_recent', 'total_score')"
   ]
  },
  {
   "cell_type": "code",
   "execution_count": 153,
   "metadata": {},
   "outputs": [
    {
     "data": {
      "image/png": "[encoded data removed]",
      "text/plain": [
       "<Figure size 690.375x216 with 3 Axes>"
      ]
     },
     "metadata": {
      "needs_background": "light"
     },
     "output_type": "display_data"
    }
   ],
   "source": [
    "plot = cluster_view(new_complete, 'views_recent', 'total_score')"
   ]
  },
  {
   "cell_type": "markdown",
   "metadata": {},
   "source": [
    "4. views_recent vs downloads_recent"
   ]
  },
  {
   "cell_type": "code",
   "execution_count": 155,
   "metadata": {},
   "outputs": [
    {
     "data": {
      "image/png": "[encoded data removed]",
      "text/plain": [
       "<Figure size 576x360 with 1 Axes>"
      ]
     },
     "metadata": {
      "needs_background": "light"
     },
     "output_type": "display_data"
    }
   ],
   "source": [
    "plot = overview(new_complete, 'views_recent', 'downloads_recent')"
   ]
  },
  {
   "cell_type": "code",
   "execution_count": 157,
   "metadata": {},
   "outputs": [
    {
     "data": {
      "image/png": "[encoded data removed]",
      "text/plain": [
       "<Figure size 690.375x216 with 3 Axes>"
      ]
     },
     "metadata": {
      "needs_background": "light"
     },
     "output_type": "display_data"
    }
   ],
   "source": [
    "plot = cluster_view(new_complete, 'views_recent', 'downloads_recent')"
   ]
  },
  {
   "cell_type": "markdown",
   "metadata": {},
   "source": [
    "5. views_lifetime vs shares"
   ]
  },
  {
   "cell_type": "code",
   "execution_count": 158,
   "metadata": {},
   "outputs": [
    {
     "data": {
      "image/png": "[encoded data removed]",
      "text/plain": [
       "<Figure size 576x360 with 1 Axes>"
      ]
     },
     "metadata": {
      "needs_background": "light"
     },
     "output_type": "display_data"
    }
   ],
   "source": [
    "plot = overview(new_complete, 'views_lifetime', 'shares')"
   ]
  },
  {
   "cell_type": "code",
   "execution_count": 159,
   "metadata": {},
   "outputs": [
    {
     "data": {
      "image/png": "[encoded data removed]",
      "text/plain": [
       "<Figure size 690.375x216 with 3 Axes>"
      ]
     },
     "metadata": {
      "needs_background": "light"
     },
     "output_type": "display_data"
    }
   ],
   "source": [
    "plot = cluster_view(new_complete, 'views_lifetime', 'shares')"
   ]
  },
  {
   "cell_type": "markdown",
   "metadata": {},
   "source": [
    "6. views_lifetime vs total_score"
   ]
  },
  {
   "cell_type": "code",
   "execution_count": 162,
   "metadata": {},
   "outputs": [
    {
     "data": {
      "image/png": "[encoded data removed]",
      "text/plain": [
       "<Figure size 576x360 with 1 Axes>"
      ]
     },
     "metadata": {
      "needs_background": "light"
     },
     "output_type": "display_data"
    }
   ],
   "source": [
    "plot = overview(new_complete, 'views_lifetime', 'total_score')"
   ]
  },
  {
   "cell_type": "code",
   "execution_count": 163,
   "metadata": {},
   "outputs": [
    {
     "data": {
      "image/png": "[encoded data removed]",
      "text/plain": [
       "<Figure size 690.375x216 with 3 Axes>"
      ]
     },
     "metadata": {
      "needs_background": "light"
     },
     "output_type": "display_data"
    }
   ],
   "source": [
    "plot = cluster_view(new_complete, 'views_lifetime', 'total_score')"
   ]
  },
  {
   "cell_type": "markdown",
   "metadata": {},
   "source": [
    "7. views_lifetime vs downloads_recent"
   ]
  },
  {
   "cell_type": "code",
   "execution_count": 172,
   "metadata": {},
   "outputs": [
    {
     "data": {
      "image/png": "[encoded data removed]",
      "text/plain": [
       "<Figure size 576x360 with 1 Axes>"
      ]
     },
     "metadata": {
      "needs_background": "light"
     },
     "output_type": "display_data"
    }
   ],
   "source": [
    "plot = overview(new_complete, 'views_lifetime', 'downloads_recent')"
   ]
  },
  {
   "cell_type": "code",
   "execution_count": 173,
   "metadata": {},
   "outputs": [
    {
     "data": {
      "image/png": "[encoded data removed]",
      "text/plain": [
       "<Figure size 690.375x216 with 3 Axes>"
      ]
     },
     "metadata": {
      "needs_background": "light"
     },
     "output_type": "display_data"
    }
   ],
   "source": [
    "plot = cluster_view(new_complete, 'views_lifetime', 'downloads_recent')"
   ]
  },
  {
   "cell_type": "markdown",
   "metadata": {},
   "source": [
    "8. downloads_recent vs shares"
   ]
  },
  {
   "cell_type": "code",
   "execution_count": 174,
   "metadata": {},
   "outputs": [
    {
     "data": {
      "image/png": "[encoded data removed]",
      "text/plain": [
       "<Figure size 576x360 with 1 Axes>"
      ]
     },
     "metadata": {
      "needs_background": "light"
     },
     "output_type": "display_data"
    }
   ],
   "source": [
    "plot = overview(new_complete, 'downloads_recent', 'shares')"
   ]
  },
  {
   "cell_type": "code",
   "execution_count": 175,
   "metadata": {},
   "outputs": [
    {
     "data": {
      "image/png": "[encoded data removed]",
      "text/plain": [
       "<Figure size 690.375x216 with 3 Axes>"
      ]
     },
     "metadata": {
      "needs_background": "light"
     },
     "output_type": "display_data"
    }
   ],
   "source": [
    "plot = cluster_view(new_complete, 'downloads_recent', 'shares')"
   ]
  },
  {
   "cell_type": "markdown",
   "metadata": {},
   "source": [
    "9. downloads_recent vs total_score"
   ]
  },
  {
   "cell_type": "code",
   "execution_count": 176,
   "metadata": {},
   "outputs": [
    {
     "data": {
      "image/png": "[encoded data removed]",
      "text/plain": [
       "<Figure size 576x360 with 1 Axes>"
      ]
     },
     "metadata": {
      "needs_background": "light"
     },
     "output_type": "display_data"
    }
   ],
   "source": [
    "plot = overview(new_complete, 'downloads_recent', 'total_score')"
   ]
  },
  {
   "cell_type": "code",
   "execution_count": 177,
   "metadata": {},
   "outputs": [
    {
     "data": {
      "image/png": "[encoded data removed]",
      "text/plain": [
       "<Figure size 690.375x216 with 3 Axes>"
      ]
     },
     "metadata": {
      "needs_background": "light"
     },
     "output_type": "display_data"
    }
   ],
   "source": [
    "plot = cluster_view(new_complete, 'downloads_recent', 'total_score')"
   ]
  },
  {
   "cell_type": "markdown",
   "metadata": {},
   "source": [
    "10. shares vs total_score"
   ]
  },
  {
   "cell_type": "code",
   "execution_count": 178,
   "metadata": {},
   "outputs": [
    {
     "data": {
      "image/png": "[encoded data removed]",
      "text/plain": [
       "<Figure size 576x360 with 1 Axes>"
      ]
     },
     "metadata": {
      "needs_background": "light"
     },
     "output_type": "display_data"
    }
   ],
   "source": [
    "plot = overview(new_complete, 'shares', 'total_score')"
   ]
  },
  {
   "cell_type": "code",
   "execution_count": 179,
   "metadata": {},
   "outputs": [
    {
     "data": {
      "image/png": "[encoded data removed]",
      "text/plain": [
       "<Figure size 690.375x216 with 3 Axes>"
      ]
     },
     "metadata": {
      "needs_background": "light"
     },
     "output_type": "display_data"
    }
   ],
   "source": [
    "plot = cluster_view(new_complete, 'shares', 'total_score')"
   ]
  },
  {
   "cell_type": "code",
   "execution_count": 147,
   "metadata": {},
   "outputs": [
    {
     "data": {
      "image/png": "[encoded data removed]",
      "text/plain": [
       "<Figure size 576x360 with 1 Axes>"
      ]
     },
     "metadata": {
      "needs_background": "light"
     },
     "output_type": "display_data"
    }
   ],
   "source": [
    "plt.figure(figsize = (8, 5))\n",
    "g = sns.scatterplot(x='views_lifetime', y='views_recent', hue='cluster', size='total_score', palette='Set2', \n",
    "                    data=new_complete)\n",
    "plt.show()"
   ]
  },
  {
   "cell_type": "code",
   "execution_count": 148,
   "metadata": {},
   "outputs": [
    {
     "data": {
      "image/png": "[encoded data removed]",
      "text/plain": [
       "<Figure size 576x360 with 1 Axes>"
      ]
     },
     "metadata": {
      "needs_background": "light"
     },
     "output_type": "display_data"
    }
   ],
   "source": [
    "plt.figure(figsize = (8,5))\n",
    "g = sns.scatterplot(x='views_recent', y='shares', hue='cluster', size='total_score', palette='Set2', \n",
    "                    data=new_complete)\n",
    "plt.show()"
   ]
  },
  {
   "cell_type": "code",
   "execution_count": 109,
   "metadata": {},
   "outputs": [],
   "source": [
    "new_complete.to_csv(\"Complete_assets_with_cluster.csv\", index=False)"
   ]
  },
  {
   "cell_type": "code",
   "execution_count": null,
   "metadata": {},
   "outputs": [],
   "source": []
  }
 ],
 "metadata": {
  "kernelspec": {
   "display_name": "Python 3",
   "language": "python",
   "name": "python3"
  },
  "language_info": {
   "codemirror_mode": {
    "name": "ipython",
    "version": 3
   },
   "file_extension": ".py",
   "mimetype": "text/x-python",
   "name": "python",
   "nbconvert_exporter": "python",
   "pygments_lexer": "ipython3",
   "version": "3.7.3"
  }
 },
 "nbformat": 4,
 "nbformat_minor": 2
}
